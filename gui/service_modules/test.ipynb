{
 "cells": [
  {
   "cell_type": "code",
   "execution_count": 1,
   "metadata": {},
   "outputs": [],
   "source": [
    "import numpy as np\n",
    "from classifier import preprocessing as cfp"
   ]
  },
  {
   "cell_type": "code",
   "execution_count": 2,
   "metadata": {},
   "outputs": [],
   "source": [
    "arr = [[1,2,3,4,5], [2,3,4,5,6], [3,4,5,6,7]]"
   ]
  },
  {
   "cell_type": "code",
   "execution_count": 3,
   "metadata": {},
   "outputs": [],
   "source": [
    "arr = np.array(arr)"
   ]
  },
  {
   "cell_type": "code",
   "execution_count": 4,
   "metadata": {},
   "outputs": [
    {
     "name": "stdout",
     "output_type": "stream",
     "text": [
      "(5, 3, 1)\n"
     ]
    }
   ],
   "source": [
    "print(np.expand_dims(arr, axis = 0).T.shape)"
   ]
  },
  {
   "cell_type": "code",
   "execution_count": 5,
   "metadata": {},
   "outputs": [],
   "source": [
    "preprocessor = cfp()"
   ]
  },
  {
   "cell_type": "code",
   "execution_count": 6,
   "metadata": {},
   "outputs": [
    {
     "name": "stdout",
     "output_type": "stream",
     "text": [
      "[[1 2 3 4 5]\n",
      " [2 3 4 5 6]\n",
      " [3 4 5 6 7]]\n",
      "max [[1 2 3 4 5 5]\n",
      " [2 3 4 5 6 6]\n",
      " [3 4 5 6 7 7]]\n",
      "min [[1 2 3 4 5 5 1]\n",
      " [2 3 4 5 6 6 2]\n",
      " [3 4 5 6 7 7 3]]\n",
      "avg [[1. 2. 3. 4. 5. 5. 1. 3.]\n",
      " [2. 3. 4. 5. 6. 6. 2. 4.]\n",
      " [3. 4. 5. 6. 7. 7. 3. 5.]]\n",
      "abs [[ 1.          2.          3.          4.          5.          5.\n",
      "   1.          3.          7.41619849]\n",
      " [ 2.          3.          4.          5.          6.          6.\n",
      "   2.          4.          9.48683298]\n",
      " [ 3.          4.          5.          6.          7.          7.\n",
      "   3.          5.         11.61895004]]\n",
      "rms [[ 1.          2.          3.          4.          5.          5.\n",
      "   1.          3.          7.41619849  3.31662479]\n",
      " [ 2.          3.          4.          5.          6.          6.\n",
      "   2.          4.          9.48683298  4.24264069]\n",
      " [ 3.          4.          5.          6.          7.          7.\n",
      "   3.          5.         11.61895004  5.19615242]]\n"
     ]
    }
   ],
   "source": [
    "data = preprocessor.processedData(predata = arr)"
   ]
  },
  {
   "cell_type": "code",
   "execution_count": 7,
   "metadata": {},
   "outputs": [
    {
     "name": "stdout",
     "output_type": "stream",
     "text": [
      "[[ 1.          2.          3.          4.          5.          5.\n",
      "   1.          3.          7.41619849  3.31662479]\n",
      " [ 2.          3.          4.          5.          6.          6.\n",
      "   2.          4.          9.48683298  4.24264069]\n",
      " [ 3.          4.          5.          6.          7.          7.\n",
      "   3.          5.         11.61895004  5.19615242]]\n"
     ]
    }
   ],
   "source": [
    "print(data)"
   ]
  },
  {
   "cell_type": "code",
   "execution_count": null,
   "metadata": {},
   "outputs": [],
   "source": []
  }
 ],
 "metadata": {
  "interpreter": {
   "hash": "77685dea35024d00c47c2bd6674a5d99e524bb0acc43ac0da346cfc9a7e35ee9"
  },
  "kernelspec": {
   "display_name": "Python 3.9.10 ('radar')",
   "language": "python",
   "name": "python3"
  },
  "language_info": {
   "codemirror_mode": {
    "name": "ipython",
    "version": 3
   },
   "file_extension": ".py",
   "mimetype": "text/x-python",
   "name": "python",
   "nbconvert_exporter": "python",
   "pygments_lexer": "ipython3",
   "version": "3.9.10"
  },
  "orig_nbformat": 4
 },
 "nbformat": 4,
 "nbformat_minor": 2
}
