{
 "cells": [
  {
   "cell_type": "code",
   "execution_count": 1,
   "metadata": {},
   "outputs": [],
   "source": [
    "import numpy as np\n",
    "import tensorflow as tf\n",
    "import os\n",
    "import copy\n",
    "from math import pi\n",
    "from sklearn.metrics import accuracy_score, confusion_matrix\n",
    "import seaborn as sns\n",
    "from pandas import DataFrame as DF\n",
    "from models import VGG_branch\n",
    "\n",
    "from tensorflow import keras\n",
    "from tensorflow.keras import layers\n",
    "from tensorflow.keras import layers, models\n",
    "import matplotlib.pyplot as plt\n",
    "from classifier import preprocessing as prep"
   ]
  },
  {
   "cell_type": "code",
   "execution_count": 2,
   "metadata": {},
   "outputs": [],
   "source": [
    "maximum = 0"
   ]
  },
  {
   "cell_type": "code",
   "execution_count": 3,
   "metadata": {},
   "outputs": [],
   "source": [
    "def heatmap(matrix,title):\n",
    "    df=DF(matrix,index=[\"Can\",\"Paper\",\"Glass\",\"Plastic\"],columns=[\"Can\",\"Paper\",\"Glass\",\"Plastic\"])\n",
    "    plt.figure(figsize=(10,10))\n",
    "    sns.heatmap(df, annot=True)\n",
    "    plt.tick_params(axis='x', top=True, labeltop = True,bottom=False, labelbottom=False)\n",
    "    plt.xticks(np.arange(0.5, len(df.columns), 1), df.columns)\n",
    "    plt.yticks(np.arange(0.5, len(df.index), 1), df.index)\n",
    "    plt.xlabel(\"Prediction\",position = (0.5,1.0+0.05))\n",
    "    plt.ylabel(\"Object\")\n",
    "    plt.title(title)"
   ]
  },
  {
   "cell_type": "code",
   "execution_count": 4,
   "metadata": {},
   "outputs": [],
   "source": [
    "class_names = ['empty','can','paper','glass','plastic']"
   ]
  },
  {
   "cell_type": "code",
   "execution_count": 5,
   "metadata": {},
   "outputs": [],
   "source": [
    "# label2idx_Dict = {\n",
    "#                 'empty' : 0,\n",
    "#                 'can' : 1,\n",
    "#                 'paper' : 2,\n",
    "#                 'glass' : 3,\n",
    "#                 'plastic' : 4,\n",
    "#             }\n",
    "\n",
    "# idx2label_Dict = {\n",
    "#     0 : 'empty',\n",
    "#     1 : 'can',\n",
    "#     2 : 'paper',\n",
    "#     3 : 'glass',\n",
    "#     4 : 'plastic',\n",
    "# }\n",
    "label2idx_Dict = {\n",
    "                # 'empty' : 0,\n",
    "                'can' : 0,\n",
    "                'paper' : 1,\n",
    "                'glass' : 2,\n",
    "                'plastic' : 3,\n",
    "            }\n",
    "\n",
    "idx2label_Dict = {\n",
    "    # 0 : 'empty',\n",
    "    0 : 'can',\n",
    "    1 : 'paper',\n",
    "    2 : 'glass',\n",
    "    3 : 'plastic',\n",
    "}\n",
    "\n",
    "\n",
    "dir_path = './data/train'\n",
    "test_dir_path = './data/test'\n",
    "\n",
    "def readNpy(dir_path):\n",
    "    class_num = len(idx2label_Dict)\n",
    "\n",
    "    Empty = list()\n",
    "    Can = list()\n",
    "    Paper = list()\n",
    "    Glass = list()\n",
    "    Plastic = list()\n",
    "    Empty = np.array(Empty)\n",
    "    Can = np.array(Can)\n",
    "    Paper = np.array(Paper)\n",
    "    Glass = np.array(Glass)\n",
    "    Plastic = np.array(Plastic)\n",
    "\n",
    "    for dir in os.listdir(dir_path):\n",
    "        d_path = os.path.join(dir_path, dir)\n",
    "        file_list = os.listdir(d_path)\n",
    "        for file in file_list:\n",
    "            file_path = os.path.join(d_path, file)\n",
    "            if dir == 'can':\n",
    "                if len(Can) == 0:\n",
    "                    Can = np.load(file_path, allow_pickle=True)\n",
    "                else :\n",
    "                    Can = np.append(Can, np.load(file_path), axis = 0)\n",
    "            elif dir == 'paper':\n",
    "                if len(Paper) == 0:\n",
    "                    Paper = np.load(file_path, allow_pickle=True)\n",
    "                else :\n",
    "                    Paper = np.append(Paper, np.load(file_path), axis = 0)\n",
    "            elif dir == 'glass':\n",
    "                if len(Glass) == 0:\n",
    "                    Glass = np.load(file_path, allow_pickle=True)\n",
    "                else:\n",
    "                    Glass = np.append(Glass, np.load(file_path), axis = 0)\n",
    "            elif dir == 'plastic':\n",
    "                if len(Plastic) == 0:\n",
    "                    Plastic = np.load(file_path, allow_pickle=True)\n",
    "                else:\n",
    "                    Plastic = np.append(Plastic, np.load(file_path), axis = 0)\n",
    "            # elif dir == 'empty':\n",
    "            #     if len(Empty) == 0:\n",
    "            #         Empty = np.load(file_path, allow_pickle=True)\n",
    "            #     else:\n",
    "            #         Empty = np.append(Empty, np.load(file_path), axis = 0)\n",
    "    bound = Can.shape[1]\n",
    "    # Empty_label = np.full((Empty.shape[0], class_num), np.eye(len(label2idx_Dict))[label2idx_Dict['empty']])\n",
    "    Can_label = np.full((Can.shape[0],class_num), np.eye(len(label2idx_Dict))[label2idx_Dict['can']])\n",
    "    Paper_label = np.full((Paper.shape[0],class_num), np.eye(len(label2idx_Dict))[label2idx_Dict['paper']])\n",
    "    Glass_label = np.full((Glass.shape[0],class_num), np.eye(len(label2idx_Dict))[label2idx_Dict['glass']])\n",
    "    Plastic_label = np.full((Plastic.shape[0],class_num), np.eye(len(label2idx_Dict))[label2idx_Dict['plastic']])\n",
    "\n",
    "    # Empty = np.concatenate((Empty, Empty_label), axis=1)\n",
    "    Can = np.concatenate((Can, Can_label), axis=1)\n",
    "    Paper = np.concatenate((Paper, Paper_label), axis=1)\n",
    "    Glass = np.concatenate((Glass, Glass_label), axis=1)\n",
    "    Plastic = np.concatenate((Plastic, Plastic_label), axis=1)\n",
    "    array = Can\n",
    "    array = np.append(array, Paper, axis = 0)\n",
    "    array = np.append(array, Glass, axis = 0)\n",
    "    array = np.append(array, Plastic, axis = 0)\n",
    "    # array = np.append(array, Empty, axis = 0)\n",
    "    s = np.arange(array.shape[0])\n",
    "    np.random.shuffle(s)\n",
    "    array_s = array[s]\n",
    "\n",
    "    X = array_s[:,:bound]\n",
    "    Y = np.real(array_s[:,bound:])\n",
    "    return copy.deepcopy(X), copy.deepcopy(Y)\n",
    "\n",
    "X, Y = readNpy(dir_path)\n",
    "\n",
    "test_X, test_Y= readNpy(test_dir_path)"
   ]
  },
  {
   "cell_type": "code",
   "execution_count": 6,
   "metadata": {},
   "outputs": [
    {
     "name": "stdout",
     "output_type": "stream",
     "text": [
      "1563.3131995860588\n",
      "3.141592653589793\n"
     ]
    }
   ],
   "source": [
    "print(np.max(np.abs(X)))\n",
    "print(np.max(np.angle(X)))"
   ]
  },
  {
   "cell_type": "code",
   "execution_count": 7,
   "metadata": {},
   "outputs": [
    {
     "name": "stdout",
     "output_type": "stream",
     "text": [
      "(460, 167)\n"
     ]
    }
   ],
   "source": [
    "print(X.shape)"
   ]
  },
  {
   "cell_type": "code",
   "execution_count": 8,
   "metadata": {},
   "outputs": [],
   "source": [
    "def seperater(arr):\n",
    "    global maximum\n",
    "    pre_data = arr\n",
    "    amp = np.abs(pre_data)\n",
    "    amp = amp / maximum\n",
    "    phs = np.angle(pre_data)\n",
    "    # phs = (phs - (- pi)) / (pi - (- pi))\n",
    "    sin = np.sin(phs)\n",
    "    sin = (sin + 1) / 2\n",
    "    seperated_data = np.stack((amp.T,sin.T), axis=0)\n",
    "    seperated_data = np.expand_dims(seperated_data, axis=0)\n",
    "    return np.array(seperated_data)"
   ]
  },
  {
   "cell_type": "code",
   "execution_count": 9,
   "metadata": {},
   "outputs": [],
   "source": [
    "def dataSeperator(arr):\n",
    "    temp = copy.deepcopy(seperater(arr[0]))\n",
    "    for i in range(1, len(arr)):\n",
    "        temp = np.concatenate((temp, seperater(arr[i])), axis=0)\n",
    "    return temp"
   ]
  },
  {
   "cell_type": "code",
   "execution_count": 10,
   "metadata": {},
   "outputs": [],
   "source": [
    "maximum = 1\n",
    "Split_X = dataSeperator(X)\n",
    "test_Split_X = dataSeperator(test_X)"
   ]
  },
  {
   "cell_type": "code",
   "execution_count": 29,
   "metadata": {},
   "outputs": [
    {
     "name": "stdout",
     "output_type": "stream",
     "text": [
      "1563.3131995860588\n"
     ]
    }
   ],
   "source": [
    "maximum = np.max(np.abs(X))\n",
    "Split_X_n = dataSeperator(X)\n",
    "test_Split_X_n = dataSeperator(test_X)"
   ]
  },
  {
   "cell_type": "code",
   "execution_count": 12,
   "metadata": {},
   "outputs": [
    {
     "name": "stdout",
     "output_type": "stream",
     "text": [
      "(460, 4) (460, 2, 167)\n"
     ]
    }
   ],
   "source": [
    "print(Y.shape, Split_X_n.shape)"
   ]
  },
  {
   "cell_type": "code",
   "execution_count": 13,
   "metadata": {},
   "outputs": [],
   "source": [
    "def plotting(history, title):\n",
    "    plt.plot(history.history['accuracy'])\n",
    "    plt.plot(history.history['val_accuracy'])\n",
    "    plt.title('Model accuracy ' + title)\n",
    "    plt.xlabel('Epoch')\n",
    "    plt.ylabel('Accuracy')\n",
    "    plt.legend(['Train', 'Test'], loc='upper left')\n",
    "    plt.show()"
   ]
  },
  {
   "cell_type": "code",
   "execution_count": 14,
   "metadata": {},
   "outputs": [
    {
     "name": "stdout",
     "output_type": "stream",
     "text": [
      "0\n"
     ]
    }
   ],
   "source": [
    "print(np.argmax(Y[2]))"
   ]
  },
  {
   "cell_type": "code",
   "execution_count": 15,
   "metadata": {},
   "outputs": [
    {
     "name": "stdout",
     "output_type": "stream",
     "text": [
      "can\n",
      "paper\n",
      "glass\n",
      "plastic\n"
     ]
    }
   ],
   "source": [
    "for i in label2idx_Dict:\n",
    "    print(i)"
   ]
  },
  {
   "cell_type": "code",
   "execution_count": 16,
   "metadata": {},
   "outputs": [],
   "source": [
    "def data_plot(array, Y):\n",
    "    x = np.linspace(13,18,array.shape[2])\n",
    "    for i in label2idx_Dict:\n",
    "        for j in range(len(array)):\n",
    "            if np.argmax(Y[j]) == label2idx_Dict[i]:\n",
    "                plt.subplot(len(label2idx_Dict) * 2,1, label2idx_Dict[i]*2 + 1)\n",
    "                plt.title(i)\n",
    "                plt.plot(x ,array[j][0])\n",
    "                plt.subplot(len(label2idx_Dict) * 2,1, (label2idx_Dict[i]*2 + 2))\n",
    "                plt.plot(x, array[j][1])\n",
    "    \n",
    "    plt.show"
   ]
  },
  {
   "cell_type": "code",
   "execution_count": 17,
   "metadata": {},
   "outputs": [],
   "source": [
    "plt.rcParams[\"figure.figsize\"] = (10,40)"
   ]
  },
  {
   "cell_type": "code",
   "execution_count": 18,
   "metadata": {},
   "outputs": [],
   "source": [
    "# data_plot(Split_X_n, Y)"
   ]
  },
  {
   "cell_type": "code",
   "execution_count": 19,
   "metadata": {},
   "outputs": [
    {
     "name": "stdout",
     "output_type": "stream",
     "text": [
      "(460, 2, 167)\n"
     ]
    }
   ],
   "source": [
    "print(Split_X_n.shape)"
   ]
  },
  {
   "cell_type": "code",
   "execution_count": 20,
   "metadata": {},
   "outputs": [],
   "source": [
    "# def VGG_branch(X, Y, test_X, test_Y, cp_filepath, EPOCH=10):\n",
    "    \n",
    "#     amp_input = keras.Input(shape=(X.shape[2],1), name=\"amplitude\")\n",
    "#     phs_input = keras.Input(shape=(X.shape[2],1), name='phase')\n",
    "    \n",
    "#     amp_features = layers.Conv1D(64, (3), activation = 'relu', input_shape = (X.shape[2], 1), padding = 'same')(amp_input)\n",
    "#     amp_features = layers.Conv1D(64, (3), activation = 'relu', padding = 'same')(amp_features)\n",
    "#     amp_features = layers.MaxPool1D(2)(amp_features)\n",
    "#     amp_features = layers.Conv1D(128, (3), activation = 'relu', padding = 'same')(amp_features)\n",
    "#     amp_features = layers.Conv1D(128, (3), activation = 'relu', padding = 'same')(amp_features)\n",
    "#     amp_features = layers.MaxPool1D(2)(amp_features)\n",
    "#     amp_features = layers.Conv1D(256,(3), activation = 'relu', padding = 'same')(amp_features)\n",
    "#     amp_features = layers.Conv1D(256,(3), activation = 'relu', padding = 'same')(amp_features)\n",
    "#     amp_features = layers.Conv1D(256,(3), activation = 'relu', padding = 'same')(amp_features)\n",
    "#     amp_features = layers.Conv1D(256,(3), activation = 'relu', padding = 'same')(amp_features)\n",
    "#     amp_features = layers.MaxPool1D(2)(amp_features)\n",
    "#     amp_features = layers.Flatten()(amp_features)\n",
    "\n",
    "#     phs_features = layers.Conv1D(64, (3), activation = 'relu', input_shape = (X.shape[2], 1), padding = 'same')(phs_input)\n",
    "#     phs_features = layers.Conv1D(64, (3), activation = 'relu', padding = 'same')(phs_features)\n",
    "#     phs_features = layers.MaxPool1D(2)(phs_features)\n",
    "#     phs_features = layers.Conv1D(128, (3), activation = 'relu', padding = 'same')(phs_features)\n",
    "#     phs_features = layers.Conv1D(128, (3), activation = 'relu', padding = 'same')(phs_features)\n",
    "#     phs_features = layers.MaxPool1D(2)(phs_features)\n",
    "#     phs_features = layers.Conv1D(256,(3), activation = 'relu', padding = 'same')(phs_features)\n",
    "#     phs_features = layers.Conv1D(256,(3), activation = 'relu', padding = 'same')(phs_features)\n",
    "#     phs_features = layers.Conv1D(256,(3), activation = 'relu', padding = 'same')(phs_features)\n",
    "#     phs_features = layers.Conv1D(256,(3), activation = 'relu', padding = 'same')(phs_features)\n",
    "#     phs_features = layers.MaxPool1D(2)(phs_features)\n",
    "#     phs_features = layers.Flatten()(phs_features)\n",
    "\n",
    "#     x = layers.concatenate([amp_features, phs_features], axis = -1)\n",
    "#     x = layers.Dense(4096, activation = 'relu')(x)\n",
    "#     x = layers.Dropout(0.9)(x)\n",
    "#     x = layers.Dense(4096, activation = 'relu')(x)\n",
    "#     x = layers.Dropout(0.9)(x)\n",
    "#     # material_output = layers.Dense(5, activation = 'softmax', name = 'material_output')(x)\n",
    "#     material_output = layers.Dense(4, activation = 'softmax', name = 'material_output')(x)\n",
    "\n",
    "#     model = keras.Model(inputs = [amp_input, phs_input],\n",
    "#                         outputs = [material_output],)\n",
    "\n",
    "#     model.summary()\n",
    "#     keras.utils.plot_model(model, \"./branced_model.png\", show_shapes=True)\n",
    "#     model.compile(optimizer = 'adam', loss = tf.keras.losses.CategoricalCrossentropy(), metrics=['accuracy'])\n",
    "#     checkpoint_filepath = cp_filepath\n",
    "#     callback = tf.keras.callbacks.ModelCheckpoint(\n",
    "#         filepath = './model/' + checkpoint_filepath,\n",
    "#         monitor='val_accuracy',\n",
    "#         mode='max',\n",
    "#         save_best_only = True,\n",
    "#         save_weigths_only = False,\n",
    "#     )\n",
    "#     log_dir = './logs/fit/'\n",
    "#     tensorboard_callback = tf.keras.callbacks.TensorBoard(log_dir = log_dir, histogram_freq = 1)\n",
    "\n",
    "#     return model.fit(\n",
    "#     {\"amplitude\": X[:,0,:], \"phase\": X[:,1,:]},\n",
    "#     {\"material_output\": Y},\n",
    "#     batch_size = 32,\n",
    "#     epochs=EPOCH,\n",
    "#     validation_data = ({\"amplitude\" : test_X[:,0,:], \"phase\": test_X[:,1,:]}, {\"material_output\" : test_Y}),\n",
    "#     callbacks = [callback, tensorboard_callback]\n",
    "#     )"
   ]
  },
  {
   "cell_type": "code",
   "execution_count": 21,
   "metadata": {},
   "outputs": [],
   "source": [
    "checkpoint_filepath = 'branch_model'"
   ]
  },
  {
   "cell_type": "code",
   "execution_count": 22,
   "metadata": {},
   "outputs": [],
   "source": [
    "callback = tf.keras.callbacks.ModelCheckpoint(\n",
    "    filepath = './model/' + checkpoint_filepath,\n",
    "    monitor='val_accuracy',\n",
    "    mode='max',\n",
    "    save_best_only = True,\n",
    "    save_weigths_only = False,\n",
    ")\n",
    "log_dir = './logs/fit/'\n",
    "tensorboard_callback = tf.keras.callbacks.TensorBoard(log_dir = log_dir, histogram_freq = 1)"
   ]
  },
  {
   "cell_type": "code",
   "execution_count": 23,
   "metadata": {},
   "outputs": [
    {
     "name": "stdout",
     "output_type": "stream",
     "text": [
      "(460, 2, 167)\n",
      "Metal device set to: Apple M1 Pro\n",
      "\n",
      "systemMemory: 16.00 GB\n",
      "maxCacheSize: 5.33 GB\n",
      "\n",
      "(None, 167, 1)\n",
      "167\n"
     ]
    },
    {
     "name": "stderr",
     "output_type": "stream",
     "text": [
      "2022-07-12 11:17:45.361817: I tensorflow/core/common_runtime/pluggable_device/pluggable_device_factory.cc:305] Could not identify NUMA node of platform GPU ID 0, defaulting to 0. Your kernel may not have been built with NUMA support.\n",
      "2022-07-12 11:17:45.361930: I tensorflow/core/common_runtime/pluggable_device/pluggable_device_factory.cc:271] Created TensorFlow device (/job:localhost/replica:0/task:0/device:GPU:0 with 0 MB memory) -> physical PluggableDevice (device: 0, name: METAL, pci bus id: <undefined>)\n"
     ]
    },
    {
     "name": "stdout",
     "output_type": "stream",
     "text": [
      "Model: \"model\"\n",
      "__________________________________________________________________________________________________\n",
      " Layer (type)                   Output Shape         Param #     Connected to                     \n",
      "==================================================================================================\n",
      " input_1 (InputLayer)           [(None, 2, 167)]     0           []                               \n",
      "                                                                                                  \n",
      " tf.__operators__.getitem (Slic  (None, 167)         0           ['input_1[0][0]']                \n",
      " ingOpLambda)                                                                                     \n",
      "                                                                                                  \n",
      " tf.__operators__.getitem_1 (Sl  (None, 167)         0           ['input_1[0][0]']                \n",
      " icingOpLambda)                                                                                   \n",
      "                                                                                                  \n",
      " tf.expand_dims (TFOpLambda)    (None, 167, 1)       0           ['tf.__operators__.getitem[0][0]'\n",
      "                                                                 ]                                \n",
      "                                                                                                  \n",
      " tf.expand_dims_1 (TFOpLambda)  (None, 167, 1)       0           ['tf.__operators__.getitem_1[0][0\n",
      "                                                                 ]']                              \n",
      "                                                                                                  \n",
      " conv1d (Conv1D)                (None, 167, 64)      256         ['tf.expand_dims[0][0]']         \n",
      "                                                                                                  \n",
      " conv1d_8 (Conv1D)              (None, 167, 64)      256         ['tf.expand_dims_1[0][0]']       \n",
      "                                                                                                  \n",
      " conv1d_1 (Conv1D)              (None, 167, 64)      12352       ['conv1d[0][0]']                 \n",
      "                                                                                                  \n",
      " conv1d_9 (Conv1D)              (None, 167, 64)      12352       ['conv1d_8[0][0]']               \n",
      "                                                                                                  \n",
      " max_pooling1d (MaxPooling1D)   (None, 83, 64)       0           ['conv1d_1[0][0]']               \n",
      "                                                                                                  \n",
      " max_pooling1d_3 (MaxPooling1D)  (None, 83, 64)      0           ['conv1d_9[0][0]']               \n",
      "                                                                                                  \n",
      " conv1d_2 (Conv1D)              (None, 83, 128)      24704       ['max_pooling1d[0][0]']          \n",
      "                                                                                                  \n",
      " conv1d_10 (Conv1D)             (None, 83, 128)      24704       ['max_pooling1d_3[0][0]']        \n",
      "                                                                                                  \n",
      " conv1d_3 (Conv1D)              (None, 83, 128)      49280       ['conv1d_2[0][0]']               \n",
      "                                                                                                  \n",
      " conv1d_11 (Conv1D)             (None, 83, 128)      49280       ['conv1d_10[0][0]']              \n",
      "                                                                                                  \n",
      " max_pooling1d_1 (MaxPooling1D)  (None, 41, 128)     0           ['conv1d_3[0][0]']               \n",
      "                                                                                                  \n",
      " max_pooling1d_4 (MaxPooling1D)  (None, 41, 128)     0           ['conv1d_11[0][0]']              \n",
      "                                                                                                  \n",
      " conv1d_4 (Conv1D)              (None, 41, 256)      98560       ['max_pooling1d_1[0][0]']        \n",
      "                                                                                                  \n",
      " conv1d_12 (Conv1D)             (None, 41, 256)      98560       ['max_pooling1d_4[0][0]']        \n",
      "                                                                                                  \n",
      " conv1d_5 (Conv1D)              (None, 41, 256)      196864      ['conv1d_4[0][0]']               \n",
      "                                                                                                  \n",
      " conv1d_13 (Conv1D)             (None, 41, 256)      196864      ['conv1d_12[0][0]']              \n",
      "                                                                                                  \n",
      " conv1d_6 (Conv1D)              (None, 41, 256)      196864      ['conv1d_5[0][0]']               \n",
      "                                                                                                  \n",
      " conv1d_14 (Conv1D)             (None, 41, 256)      196864      ['conv1d_13[0][0]']              \n",
      "                                                                                                  \n",
      " conv1d_7 (Conv1D)              (None, 41, 256)      196864      ['conv1d_6[0][0]']               \n",
      "                                                                                                  \n",
      " conv1d_15 (Conv1D)             (None, 41, 256)      196864      ['conv1d_14[0][0]']              \n",
      "                                                                                                  \n",
      " max_pooling1d_2 (MaxPooling1D)  (None, 20, 256)     0           ['conv1d_7[0][0]']               \n",
      "                                                                                                  \n",
      " max_pooling1d_5 (MaxPooling1D)  (None, 20, 256)     0           ['conv1d_15[0][0]']              \n",
      "                                                                                                  \n",
      " flatten (Flatten)              (None, 5120)         0           ['max_pooling1d_2[0][0]']        \n",
      "                                                                                                  \n",
      " flatten_1 (Flatten)            (None, 5120)         0           ['max_pooling1d_5[0][0]']        \n",
      "                                                                                                  \n",
      " concatenate (Concatenate)      (None, 10240)        0           ['flatten[0][0]',                \n",
      "                                                                  'flatten_1[0][0]']              \n",
      "                                                                                                  \n",
      " dense (Dense)                  (None, 4096)         41947136    ['concatenate[0][0]']            \n",
      "                                                                                                  \n",
      " dropout (Dropout)              (None, 4096)         0           ['dense[0][0]']                  \n",
      "                                                                                                  \n",
      " dense_1 (Dense)                (None, 4096)         16781312    ['dropout[0][0]']                \n",
      "                                                                                                  \n",
      " dropout_1 (Dropout)            (None, 4096)         0           ['dense_1[0][0]']                \n",
      "                                                                                                  \n",
      " material_output (Dense)        (None, 4)            16388       ['dropout_1[0][0]']              \n",
      "                                                                                                  \n",
      "==================================================================================================\n",
      "Total params: 60,296,324\n",
      "Trainable params: 60,296,324\n",
      "Non-trainable params: 0\n",
      "__________________________________________________________________________________________________\n"
     ]
    },
    {
     "name": "stderr",
     "output_type": "stream",
     "text": [
      "2022-07-12 11:17:46.032279: W tensorflow/core/platform/profile_utils/cpu_utils.cc:128] Failed to get CPU frequency: 0 Hz\n"
     ]
    },
    {
     "name": "stdout",
     "output_type": "stream",
     "text": [
      "Epoch 1/30\n"
     ]
    },
    {
     "name": "stderr",
     "output_type": "stream",
     "text": [
      "2022-07-12 11:17:46.422532: I tensorflow/core/grappler/optimizers/custom_graph_optimizer_registry.cc:112] Plugin optimizer for device_type GPU is enabled.\n"
     ]
    },
    {
     "name": "stdout",
     "output_type": "stream",
     "text": [
      "15/15 [==============================] - ETA: 0s - loss: 8.8277 - accuracy: 0.2717"
     ]
    },
    {
     "name": "stderr",
     "output_type": "stream",
     "text": [
      "2022-07-12 11:17:47.648953: I tensorflow/core/grappler/optimizers/custom_graph_optimizer_registry.cc:112] Plugin optimizer for device_type GPU is enabled.\n",
      "2022-07-12 11:17:48.311253: W tensorflow/python/util/util.cc:368] Sets are not currently considered sequences, but this may change in the future, so consider avoiding using them.\n"
     ]
    },
    {
     "name": "stdout",
     "output_type": "stream",
     "text": [
      "INFO:tensorflow:Assets written to: ./model/branch_model/assets\n",
      "15/15 [==============================] - 11s 753ms/step - loss: 8.8277 - accuracy: 0.2717 - val_loss: 1.3692 - val_accuracy: 0.2786\n",
      "Epoch 2/30\n",
      "15/15 [==============================] - 6s 431ms/step - loss: 1.3761 - accuracy: 0.3043 - val_loss: 1.3623 - val_accuracy: 0.2786\n",
      "Epoch 3/30\n",
      "15/15 [==============================] - ETA: 0s - loss: 1.3267 - accuracy: 0.3283INFO:tensorflow:Assets written to: ./model/branch_model/assets\n",
      "15/15 [==============================] - 9s 652ms/step - loss: 1.3267 - accuracy: 0.3283 - val_loss: 1.3423 - val_accuracy: 0.6929\n",
      "Epoch 4/30\n",
      "15/15 [==============================] - 7s 455ms/step - loss: 1.2849 - accuracy: 0.3783 - val_loss: 1.3217 - val_accuracy: 0.2643\n",
      "Epoch 5/30\n",
      "15/15 [==============================] - 6s 431ms/step - loss: 1.1481 - accuracy: 0.4739 - val_loss: 1.2673 - val_accuracy: 0.4929\n",
      "Epoch 6/30\n",
      "15/15 [==============================] - 6s 444ms/step - loss: 1.1463 - accuracy: 0.4304 - val_loss: 1.2235 - val_accuracy: 0.4214\n",
      "Epoch 7/30\n",
      "15/15 [==============================] - 6s 442ms/step - loss: 1.1162 - accuracy: 0.4826 - val_loss: 1.2263 - val_accuracy: 0.6929\n",
      "Epoch 8/30\n",
      "15/15 [==============================] - 6s 422ms/step - loss: 1.0494 - accuracy: 0.5239 - val_loss: 1.1611 - val_accuracy: 0.5143\n",
      "Epoch 9/30\n",
      "15/15 [==============================] - 6s 443ms/step - loss: 1.0368 - accuracy: 0.5283 - val_loss: 1.1773 - val_accuracy: 0.4500\n",
      "Epoch 10/30\n",
      "15/15 [==============================] - 6s 393ms/step - loss: 0.9828 - accuracy: 0.5457 - val_loss: 1.1124 - val_accuracy: 0.6857\n",
      "Epoch 11/30\n",
      "15/15 [==============================] - 7s 458ms/step - loss: 0.9716 - accuracy: 0.6065 - val_loss: 1.1227 - val_accuracy: 0.6643\n",
      "Epoch 12/30\n",
      "15/15 [==============================] - 6s 419ms/step - loss: 0.9997 - accuracy: 0.5761 - val_loss: 1.1578 - val_accuracy: 0.5786\n",
      "Epoch 13/30\n",
      "15/15 [==============================] - 6s 395ms/step - loss: 0.9484 - accuracy: 0.5913 - val_loss: 1.1813 - val_accuracy: 0.3429\n",
      "Epoch 14/30\n",
      "15/15 [==============================] - ETA: 0s - loss: 0.9832 - accuracy: 0.5674INFO:tensorflow:Assets written to: ./model/branch_model/assets\n",
      "15/15 [==============================] - 9s 646ms/step - loss: 0.9832 - accuracy: 0.5674 - val_loss: 1.0964 - val_accuracy: 0.7714\n",
      "Epoch 15/30\n",
      "15/15 [==============================] - 6s 414ms/step - loss: 0.9554 - accuracy: 0.5783 - val_loss: 1.1443 - val_accuracy: 0.4643\n",
      "Epoch 16/30\n",
      "15/15 [==============================] - 6s 389ms/step - loss: 0.9283 - accuracy: 0.5978 - val_loss: 1.1476 - val_accuracy: 0.4286\n",
      "Epoch 17/30\n",
      "15/15 [==============================] - 6s 412ms/step - loss: 0.8808 - accuracy: 0.6065 - val_loss: 1.0718 - val_accuracy: 0.6786\n",
      "Epoch 18/30\n",
      "15/15 [==============================] - 6s 432ms/step - loss: 0.9119 - accuracy: 0.6174 - val_loss: 1.1532 - val_accuracy: 0.4071\n",
      "Epoch 19/30\n",
      "15/15 [==============================] - 7s 475ms/step - loss: 0.8839 - accuracy: 0.6283 - val_loss: 1.1046 - val_accuracy: 0.6429\n",
      "Epoch 20/30\n",
      "15/15 [==============================] - 7s 447ms/step - loss: 0.9295 - accuracy: 0.6043 - val_loss: 1.0603 - val_accuracy: 0.7143\n",
      "Epoch 21/30\n",
      "15/15 [==============================] - 6s 420ms/step - loss: 0.9076 - accuracy: 0.6130 - val_loss: 1.1137 - val_accuracy: 0.5929\n",
      "Epoch 22/30\n",
      "15/15 [==============================] - 6s 435ms/step - loss: 0.8826 - accuracy: 0.6478 - val_loss: 1.0942 - val_accuracy: 0.5643\n",
      "Epoch 23/30\n",
      "15/15 [==============================] - 7s 462ms/step - loss: 0.8477 - accuracy: 0.6522 - val_loss: 1.0724 - val_accuracy: 0.6786\n",
      "Epoch 24/30\n",
      "15/15 [==============================] - 6s 404ms/step - loss: 0.8645 - accuracy: 0.6500 - val_loss: 1.0498 - val_accuracy: 0.6857\n",
      "Epoch 25/30\n",
      "15/15 [==============================] - ETA: 0s - loss: 0.8310 - accuracy: 0.6609INFO:tensorflow:Assets written to: ./model/branch_model/assets\n",
      "15/15 [==============================] - 10s 703ms/step - loss: 0.8310 - accuracy: 0.6609 - val_loss: 0.9962 - val_accuracy: 0.7857\n",
      "Epoch 26/30\n",
      "15/15 [==============================] - 6s 444ms/step - loss: 0.9284 - accuracy: 0.6348 - val_loss: 1.0965 - val_accuracy: 0.5643\n",
      "Epoch 27/30\n",
      "15/15 [==============================] - 6s 409ms/step - loss: 0.8746 - accuracy: 0.6152 - val_loss: 1.0662 - val_accuracy: 0.7643\n",
      "Epoch 28/30\n",
      "15/15 [==============================] - 7s 467ms/step - loss: 0.8608 - accuracy: 0.6565 - val_loss: 1.1353 - val_accuracy: 0.4000\n",
      "Epoch 29/30\n",
      "15/15 [==============================] - 7s 470ms/step - loss: 0.8392 - accuracy: 0.6478 - val_loss: 1.1217 - val_accuracy: 0.3571\n",
      "Epoch 30/30\n",
      "15/15 [==============================] - 6s 443ms/step - loss: 0.8465 - accuracy: 0.6674 - val_loss: 1.0849 - val_accuracy: 0.5643\n"
     ]
    }
   ],
   "source": [
    "print(Split_X.shape)\n",
    "model = VGG_branch(Split_X.shape[2])\n",
    "# history=model.fit(\n",
    "#     {\"amplitude\": Split_X[:,0,:], \"phase\": Split_X[:,1,:]},\n",
    "#     {\"material_output\": Y},\n",
    "#     batch_size = 32,\n",
    "#     epochs=30,\n",
    "#     validation_data = ({\"amplitude\" : test_Split_X[:,0,:], \"phase\": test_Split_X[:,1,:]}, {\"material_output\" : test_Y}),\n",
    "#     callbacks = [callback, tensorboard_callback]\n",
    "#     )\n",
    "\n",
    "history=model.fit(\n",
    "    Split_X,\n",
    "    Y,\n",
    "    batch_size = 32,\n",
    "    epochs=30,\n",
    "    validation_data = (test_Split_X, test_Y),\n",
    "    callbacks = [callback, tensorboard_callback]\n",
    "    )"
   ]
  },
  {
   "cell_type": "code",
   "execution_count": 24,
   "metadata": {},
   "outputs": [
    {
     "name": "stdout",
     "output_type": "stream",
     "text": [
      "0.7857142686843872\n"
     ]
    }
   ],
   "source": [
    "print(max(history.history['val_accuracy']))"
   ]
  },
  {
   "cell_type": "code",
   "execution_count": 25,
   "metadata": {},
   "outputs": [],
   "source": [
    "checkpoint_filepath = 'branch_model_norm'\n",
    "callback = tf.keras.callbacks.ModelCheckpoint(\n",
    "    filepath = './model/' + checkpoint_filepath,\n",
    "    monitor='val_accuracy',\n",
    "    mode='max',\n",
    "    save_best_only = True,\n",
    "    save_weigths_only = False,\n",
    ")"
   ]
  },
  {
   "cell_type": "code",
   "execution_count": 30,
   "metadata": {},
   "outputs": [
    {
     "name": "stdout",
     "output_type": "stream",
     "text": [
      "(None, 167, 1)\n",
      "167\n",
      "Model: \"model_2\"\n",
      "__________________________________________________________________________________________________\n",
      " Layer (type)                   Output Shape         Param #     Connected to                     \n",
      "==================================================================================================\n",
      " input_3 (InputLayer)           [(None, 2, 167)]     0           []                               \n",
      "                                                                                                  \n",
      " tf.__operators__.getitem_4 (Sl  (None, 167)         0           ['input_3[0][0]']                \n",
      " icingOpLambda)                                                                                   \n",
      "                                                                                                  \n",
      " tf.__operators__.getitem_5 (Sl  (None, 167)         0           ['input_3[0][0]']                \n",
      " icingOpLambda)                                                                                   \n",
      "                                                                                                  \n",
      " tf.expand_dims_4 (TFOpLambda)  (None, 167, 1)       0           ['tf.__operators__.getitem_4[0][0\n",
      "                                                                 ]']                              \n",
      "                                                                                                  \n",
      " tf.expand_dims_5 (TFOpLambda)  (None, 167, 1)       0           ['tf.__operators__.getitem_5[0][0\n",
      "                                                                 ]']                              \n",
      "                                                                                                  \n",
      " conv1d_32 (Conv1D)             (None, 167, 64)      256         ['tf.expand_dims_4[0][0]']       \n",
      "                                                                                                  \n",
      " conv1d_40 (Conv1D)             (None, 167, 64)      256         ['tf.expand_dims_5[0][0]']       \n",
      "                                                                                                  \n",
      " conv1d_33 (Conv1D)             (None, 167, 64)      12352       ['conv1d_32[0][0]']              \n",
      "                                                                                                  \n",
      " conv1d_41 (Conv1D)             (None, 167, 64)      12352       ['conv1d_40[0][0]']              \n",
      "                                                                                                  \n",
      " max_pooling1d_12 (MaxPooling1D  (None, 83, 64)      0           ['conv1d_33[0][0]']              \n",
      " )                                                                                                \n",
      "                                                                                                  \n",
      " max_pooling1d_15 (MaxPooling1D  (None, 83, 64)      0           ['conv1d_41[0][0]']              \n",
      " )                                                                                                \n",
      "                                                                                                  \n",
      " conv1d_34 (Conv1D)             (None, 83, 128)      24704       ['max_pooling1d_12[0][0]']       \n",
      "                                                                                                  \n",
      " conv1d_42 (Conv1D)             (None, 83, 128)      24704       ['max_pooling1d_15[0][0]']       \n",
      "                                                                                                  \n",
      " conv1d_35 (Conv1D)             (None, 83, 128)      49280       ['conv1d_34[0][0]']              \n",
      "                                                                                                  \n",
      " conv1d_43 (Conv1D)             (None, 83, 128)      49280       ['conv1d_42[0][0]']              \n",
      "                                                                                                  \n",
      " max_pooling1d_13 (MaxPooling1D  (None, 41, 128)     0           ['conv1d_35[0][0]']              \n",
      " )                                                                                                \n",
      "                                                                                                  \n",
      " max_pooling1d_16 (MaxPooling1D  (None, 41, 128)     0           ['conv1d_43[0][0]']              \n",
      " )                                                                                                \n",
      "                                                                                                  \n",
      " conv1d_36 (Conv1D)             (None, 41, 256)      98560       ['max_pooling1d_13[0][0]']       \n",
      "                                                                                                  \n",
      " conv1d_44 (Conv1D)             (None, 41, 256)      98560       ['max_pooling1d_16[0][0]']       \n",
      "                                                                                                  \n",
      " conv1d_37 (Conv1D)             (None, 41, 256)      196864      ['conv1d_36[0][0]']              \n",
      "                                                                                                  \n",
      " conv1d_45 (Conv1D)             (None, 41, 256)      196864      ['conv1d_44[0][0]']              \n",
      "                                                                                                  \n",
      " conv1d_38 (Conv1D)             (None, 41, 256)      196864      ['conv1d_37[0][0]']              \n",
      "                                                                                                  \n",
      " conv1d_46 (Conv1D)             (None, 41, 256)      196864      ['conv1d_45[0][0]']              \n",
      "                                                                                                  \n",
      " conv1d_39 (Conv1D)             (None, 41, 256)      196864      ['conv1d_38[0][0]']              \n",
      "                                                                                                  \n",
      " conv1d_47 (Conv1D)             (None, 41, 256)      196864      ['conv1d_46[0][0]']              \n",
      "                                                                                                  \n",
      " max_pooling1d_14 (MaxPooling1D  (None, 20, 256)     0           ['conv1d_39[0][0]']              \n",
      " )                                                                                                \n",
      "                                                                                                  \n",
      " max_pooling1d_17 (MaxPooling1D  (None, 20, 256)     0           ['conv1d_47[0][0]']              \n",
      " )                                                                                                \n",
      "                                                                                                  \n",
      " flatten_4 (Flatten)            (None, 5120)         0           ['max_pooling1d_14[0][0]']       \n",
      "                                                                                                  \n",
      " flatten_5 (Flatten)            (None, 5120)         0           ['max_pooling1d_17[0][0]']       \n",
      "                                                                                                  \n",
      " concatenate_2 (Concatenate)    (None, 10240)        0           ['flatten_4[0][0]',              \n",
      "                                                                  'flatten_5[0][0]']              \n",
      "                                                                                                  \n",
      " dense_4 (Dense)                (None, 4096)         41947136    ['concatenate_2[0][0]']          \n",
      "                                                                                                  \n",
      " dropout_4 (Dropout)            (None, 4096)         0           ['dense_4[0][0]']                \n",
      "                                                                                                  \n",
      " dense_5 (Dense)                (None, 4096)         16781312    ['dropout_4[0][0]']              \n",
      "                                                                                                  \n",
      " dropout_5 (Dropout)            (None, 4096)         0           ['dense_5[0][0]']                \n",
      "                                                                                                  \n",
      " material_output (Dense)        (None, 4)            16388       ['dropout_5[0][0]']              \n",
      "                                                                                                  \n",
      "==================================================================================================\n",
      "Total params: 60,296,324\n",
      "Trainable params: 60,296,324\n",
      "Non-trainable params: 0\n",
      "__________________________________________________________________________________________________\n",
      "Epoch 1/30\n"
     ]
    },
    {
     "name": "stderr",
     "output_type": "stream",
     "text": [
      "2022-07-12 11:51:07.638056: I tensorflow/core/grappler/optimizers/custom_graph_optimizer_registry.cc:112] Plugin optimizer for device_type GPU is enabled.\n"
     ]
    },
    {
     "name": "stdout",
     "output_type": "stream",
     "text": [
      "15/15 [==============================] - ETA: 0s - loss: 1.3981 - accuracy: 0.2717"
     ]
    },
    {
     "name": "stderr",
     "output_type": "stream",
     "text": [
      "2022-07-12 11:51:09.036827: I tensorflow/core/grappler/optimizers/custom_graph_optimizer_registry.cc:112] Plugin optimizer for device_type GPU is enabled.\n"
     ]
    },
    {
     "name": "stdout",
     "output_type": "stream",
     "text": [
      "15/15 [==============================] - 8s 498ms/step - loss: 1.3981 - accuracy: 0.2717 - val_loss: 1.3554 - val_accuracy: 0.2143\n",
      "Epoch 2/30\n",
      "15/15 [==============================] - 7s 460ms/step - loss: 1.4103 - accuracy: 0.2413 - val_loss: 1.3746 - val_accuracy: 0.5000\n",
      "Epoch 3/30\n",
      "15/15 [==============================] - 6s 387ms/step - loss: 1.3874 - accuracy: 0.2696 - val_loss: 1.3736 - val_accuracy: 0.2143\n",
      "Epoch 4/30\n",
      "15/15 [==============================] - 6s 413ms/step - loss: 1.3980 - accuracy: 0.2630 - val_loss: 1.3680 - val_accuracy: 0.3429\n",
      "Epoch 5/30\n",
      "15/15 [==============================] - ETA: 0s - loss: 1.3713 - accuracy: 0.2913INFO:tensorflow:Assets written to: ./model/branch_model_norm/assets\n",
      "15/15 [==============================] - 11s 734ms/step - loss: 1.3713 - accuracy: 0.2913 - val_loss: 1.3436 - val_accuracy: 0.5071\n",
      "Epoch 6/30\n",
      "14/15 [===========================>..] - ETA: 0s - loss: 1.3519 - accuracy: 0.3326INFO:tensorflow:Assets written to: ./model/branch_model_norm/assets\n",
      "15/15 [==============================] - 10s 710ms/step - loss: 1.3514 - accuracy: 0.3348 - val_loss: 1.3418 - val_accuracy: 0.5429\n",
      "Epoch 7/30\n",
      "15/15 [==============================] - 7s 475ms/step - loss: 1.3103 - accuracy: 0.3739 - val_loss: 1.3004 - val_accuracy: 0.4286\n",
      "Epoch 8/30\n",
      "15/15 [==============================] - 7s 473ms/step - loss: 1.3159 - accuracy: 0.3326 - val_loss: 1.3001 - val_accuracy: 0.5357\n",
      "Epoch 9/30\n",
      "15/15 [==============================] - 7s 460ms/step - loss: 1.3168 - accuracy: 0.3826 - val_loss: 1.2809 - val_accuracy: 0.3643\n",
      "Epoch 10/30\n",
      "15/15 [==============================] - 6s 392ms/step - loss: 1.2915 - accuracy: 0.3935 - val_loss: 1.2993 - val_accuracy: 0.4143\n",
      "Epoch 11/30\n",
      "15/15 [==============================] - ETA: 0s - loss: 1.2831 - accuracy: 0.4000INFO:tensorflow:Assets written to: ./model/branch_model_norm/assets\n",
      "15/15 [==============================] - 10s 704ms/step - loss: 1.2831 - accuracy: 0.4000 - val_loss: 1.2901 - val_accuracy: 0.5500\n",
      "Epoch 12/30\n",
      "15/15 [==============================] - 6s 436ms/step - loss: 1.2794 - accuracy: 0.3935 - val_loss: 1.2824 - val_accuracy: 0.4214\n",
      "Epoch 13/30\n",
      "15/15 [==============================] - 7s 463ms/step - loss: 1.2702 - accuracy: 0.4065 - val_loss: 1.2807 - val_accuracy: 0.4071\n",
      "Epoch 14/30\n",
      "15/15 [==============================] - 7s 467ms/step - loss: 1.2574 - accuracy: 0.3957 - val_loss: 1.2657 - val_accuracy: 0.3929\n",
      "Epoch 15/30\n",
      "15/15 [==============================] - 6s 441ms/step - loss: 1.2384 - accuracy: 0.4043 - val_loss: 1.2672 - val_accuracy: 0.4286\n",
      "Epoch 16/30\n",
      "15/15 [==============================] - 6s 425ms/step - loss: 1.2370 - accuracy: 0.4304 - val_loss: 1.2705 - val_accuracy: 0.4214\n",
      "Epoch 17/30\n",
      "15/15 [==============================] - 6s 404ms/step - loss: 1.2554 - accuracy: 0.4196 - val_loss: 1.3006 - val_accuracy: 0.2571\n",
      "Epoch 18/30\n",
      "15/15 [==============================] - 6s 437ms/step - loss: 1.2591 - accuracy: 0.3804 - val_loss: 1.2815 - val_accuracy: 0.4214\n",
      "Epoch 19/30\n",
      "15/15 [==============================] - 6s 440ms/step - loss: 1.2401 - accuracy: 0.4326 - val_loss: 1.2669 - val_accuracy: 0.4143\n",
      "Epoch 20/30\n",
      "15/15 [==============================] - 6s 424ms/step - loss: 1.2148 - accuracy: 0.4217 - val_loss: 1.2668 - val_accuracy: 0.3929\n",
      "Epoch 21/30\n",
      "15/15 [==============================] - 6s 411ms/step - loss: 1.2803 - accuracy: 0.3652 - val_loss: 1.2594 - val_accuracy: 0.4643\n",
      "Epoch 22/30\n",
      "15/15 [==============================] - 7s 454ms/step - loss: 1.2134 - accuracy: 0.4435 - val_loss: 1.2506 - val_accuracy: 0.4214\n",
      "Epoch 23/30\n",
      "15/15 [==============================] - ETA: 0s - loss: 1.2878 - accuracy: 0.4217INFO:tensorflow:Assets written to: ./model/branch_model_norm/assets\n",
      "15/15 [==============================] - 10s 694ms/step - loss: 1.2878 - accuracy: 0.4217 - val_loss: 1.2599 - val_accuracy: 0.6143\n",
      "Epoch 24/30\n",
      "15/15 [==============================] - 7s 460ms/step - loss: 1.2514 - accuracy: 0.4087 - val_loss: 1.2617 - val_accuracy: 0.4071\n",
      "Epoch 25/30\n",
      "15/15 [==============================] - 6s 434ms/step - loss: 1.2451 - accuracy: 0.4130 - val_loss: 1.2561 - val_accuracy: 0.5071\n",
      "Epoch 26/30\n",
      "15/15 [==============================] - 6s 440ms/step - loss: 1.2253 - accuracy: 0.4457 - val_loss: 1.2666 - val_accuracy: 0.4071\n",
      "Epoch 27/30\n",
      "15/15 [==============================] - 6s 426ms/step - loss: 1.2140 - accuracy: 0.4717 - val_loss: 1.2582 - val_accuracy: 0.4143\n",
      "Epoch 28/30\n",
      "15/15 [==============================] - 6s 403ms/step - loss: 1.2165 - accuracy: 0.4413 - val_loss: 1.2524 - val_accuracy: 0.4786\n",
      "Epoch 29/30\n",
      "15/15 [==============================] - 6s 434ms/step - loss: 1.2024 - accuracy: 0.4587 - val_loss: 1.2408 - val_accuracy: 0.5000\n",
      "Epoch 30/30\n",
      "15/15 [==============================] - 6s 427ms/step - loss: 1.1963 - accuracy: 0.4804 - val_loss: 1.2445 - val_accuracy: 0.4429\n"
     ]
    }
   ],
   "source": [
    "norm_model = VGG_branch(Split_X_n.shape[2])\n",
    "norm_hist = norm_model.fit(\n",
    "    Split_X_n,\n",
    "    Y,\n",
    "    batch_size = 32,\n",
    "    epochs=30,\n",
    "    validation_data = (test_Split_X_n, test_Y),\n",
    "    callbacks = [callback, tensorboard_callback]\n",
    ")"
   ]
  },
  {
   "cell_type": "code",
   "execution_count": 31,
   "metadata": {},
   "outputs": [
    {
     "name": "stdout",
     "output_type": "stream",
     "text": [
      "0.6142857074737549\n"
     ]
    }
   ],
   "source": [
    "print(max(norm_hist.history['val_accuracy']))"
   ]
  },
  {
   "cell_type": "code",
   "execution_count": 28,
   "metadata": {},
   "outputs": [
    {
     "ename": "ValueError",
     "evalue": "in user code:\n\n    File \"/opt/homebrew/Caskroom/miniforge/base/envs/radar/lib/python3.9/site-packages/keras/engine/training.py\", line 1621, in predict_function  *\n        return step_function(self, iterator)\n    File \"/opt/homebrew/Caskroom/miniforge/base/envs/radar/lib/python3.9/site-packages/keras/engine/training.py\", line 1611, in step_function  **\n        outputs = model.distribute_strategy.run(run_step, args=(data,))\n    File \"/opt/homebrew/Caskroom/miniforge/base/envs/radar/lib/python3.9/site-packages/keras/engine/training.py\", line 1604, in run_step  **\n        outputs = model.predict_step(data)\n    File \"/opt/homebrew/Caskroom/miniforge/base/envs/radar/lib/python3.9/site-packages/keras/engine/training.py\", line 1572, in predict_step\n        return self(x, training=False)\n    File \"/opt/homebrew/Caskroom/miniforge/base/envs/radar/lib/python3.9/site-packages/keras/utils/traceback_utils.py\", line 67, in error_handler\n        raise e.with_traceback(filtered_tb) from None\n    File \"/opt/homebrew/Caskroom/miniforge/base/envs/radar/lib/python3.9/site-packages/keras/engine/input_spec.py\", line 182, in assert_input_compatibility\n        raise ValueError(f'Missing data for input \"{name}\". '\n\n    ValueError: Missing data for input \"input_1\". You passed a data dictionary with keys ['amplitude', 'phase']. Expected the following keys: ['input_1']\n",
     "output_type": "error",
     "traceback": [
      "\u001b[0;31m---------------------------------------------------------------------------\u001b[0m",
      "\u001b[0;31mValueError\u001b[0m                                Traceback (most recent call last)",
      "\u001b[0;32m/var/folders/cs/n7lxyhm16zn37_l0t4m0jrhr0000gn/T/ipykernel_71560/2520153052.py\u001b[0m in \u001b[0;36m<module>\u001b[0;34m\u001b[0m\n\u001b[1;32m      1\u001b[0m \u001b[0mVGG_branch_model\u001b[0m \u001b[0;34m=\u001b[0m \u001b[0mtf\u001b[0m\u001b[0;34m.\u001b[0m\u001b[0mkeras\u001b[0m\u001b[0;34m.\u001b[0m\u001b[0mmodels\u001b[0m\u001b[0;34m.\u001b[0m\u001b[0mload_model\u001b[0m\u001b[0;34m(\u001b[0m\u001b[0;34m'./model/branch_model'\u001b[0m\u001b[0;34m)\u001b[0m\u001b[0;34m\u001b[0m\u001b[0;34m\u001b[0m\u001b[0m\n\u001b[0;32m----> 2\u001b[0;31m \u001b[0mVGG_branch_pred\u001b[0m \u001b[0;34m=\u001b[0m \u001b[0mVGG_branch_model\u001b[0m\u001b[0;34m.\u001b[0m\u001b[0mpredict\u001b[0m\u001b[0;34m(\u001b[0m\u001b[0;34m{\u001b[0m\u001b[0;34m\"amplitude\"\u001b[0m\u001b[0;34m:\u001b[0m \u001b[0mtest_Split_X_n\u001b[0m\u001b[0;34m[\u001b[0m\u001b[0;34m:\u001b[0m\u001b[0;34m,\u001b[0m\u001b[0;36m0\u001b[0m\u001b[0;34m,\u001b[0m\u001b[0;34m:\u001b[0m\u001b[0;34m]\u001b[0m\u001b[0;34m,\u001b[0m \u001b[0;34m\"phase\"\u001b[0m\u001b[0;34m:\u001b[0m \u001b[0mtest_Split_X_n\u001b[0m\u001b[0;34m[\u001b[0m\u001b[0;34m:\u001b[0m\u001b[0;34m,\u001b[0m\u001b[0;36m1\u001b[0m\u001b[0;34m,\u001b[0m\u001b[0;34m:\u001b[0m\u001b[0;34m]\u001b[0m\u001b[0;34m}\u001b[0m\u001b[0;34m)\u001b[0m\u001b[0;34m\u001b[0m\u001b[0;34m\u001b[0m\u001b[0m\n\u001b[0m\u001b[1;32m      3\u001b[0m \u001b[0mVGG_branch_evl\u001b[0m \u001b[0;34m=\u001b[0m \u001b[0mVGG_branch_model\u001b[0m\u001b[0;34m.\u001b[0m\u001b[0mevaluate\u001b[0m\u001b[0;34m(\u001b[0m\u001b[0;34m{\u001b[0m\u001b[0;34m\"amplitude\"\u001b[0m\u001b[0;34m:\u001b[0m \u001b[0mtest_Split_X_n\u001b[0m\u001b[0;34m[\u001b[0m\u001b[0;34m:\u001b[0m\u001b[0;34m,\u001b[0m\u001b[0;36m0\u001b[0m\u001b[0;34m,\u001b[0m\u001b[0;34m:\u001b[0m\u001b[0;34m]\u001b[0m\u001b[0;34m,\u001b[0m \u001b[0;34m\"phase\"\u001b[0m\u001b[0;34m:\u001b[0m \u001b[0mtest_Split_X_n\u001b[0m\u001b[0;34m[\u001b[0m\u001b[0;34m:\u001b[0m\u001b[0;34m,\u001b[0m\u001b[0;36m1\u001b[0m\u001b[0;34m,\u001b[0m\u001b[0;34m:\u001b[0m\u001b[0;34m]\u001b[0m\u001b[0;34m}\u001b[0m\u001b[0;34m,\u001b[0m \u001b[0;34m{\u001b[0m\u001b[0;34m\"material_output\"\u001b[0m \u001b[0;34m:\u001b[0m \u001b[0mtest_Y\u001b[0m\u001b[0;34m}\u001b[0m\u001b[0;34m)\u001b[0m\u001b[0;34m\u001b[0m\u001b[0;34m\u001b[0m\u001b[0m\n\u001b[1;32m      4\u001b[0m \u001b[0mprint\u001b[0m\u001b[0;34m(\u001b[0m\u001b[0mVGG_branch_evl\u001b[0m\u001b[0;34m)\u001b[0m\u001b[0;34m\u001b[0m\u001b[0;34m\u001b[0m\u001b[0m\n\u001b[1;32m      5\u001b[0m \u001b[0mtest_Y_class\u001b[0m \u001b[0;34m=\u001b[0m \u001b[0mnp\u001b[0m\u001b[0;34m.\u001b[0m\u001b[0margmax\u001b[0m\u001b[0;34m(\u001b[0m\u001b[0mtest_Y\u001b[0m\u001b[0;34m,\u001b[0m \u001b[0maxis\u001b[0m \u001b[0;34m=\u001b[0m \u001b[0;34m-\u001b[0m\u001b[0;36m1\u001b[0m\u001b[0;34m)\u001b[0m\u001b[0;34m\u001b[0m\u001b[0;34m\u001b[0m\u001b[0m\n",
      "\u001b[0;32m/opt/homebrew/Caskroom/miniforge/base/envs/radar/lib/python3.9/site-packages/keras/utils/traceback_utils.py\u001b[0m in \u001b[0;36merror_handler\u001b[0;34m(*args, **kwargs)\u001b[0m\n\u001b[1;32m     65\u001b[0m     \u001b[0;32mexcept\u001b[0m \u001b[0mException\u001b[0m \u001b[0;32mas\u001b[0m \u001b[0me\u001b[0m\u001b[0;34m:\u001b[0m  \u001b[0;31m# pylint: disable=broad-except\u001b[0m\u001b[0;34m\u001b[0m\u001b[0;34m\u001b[0m\u001b[0m\n\u001b[1;32m     66\u001b[0m       \u001b[0mfiltered_tb\u001b[0m \u001b[0;34m=\u001b[0m \u001b[0m_process_traceback_frames\u001b[0m\u001b[0;34m(\u001b[0m\u001b[0me\u001b[0m\u001b[0;34m.\u001b[0m\u001b[0m__traceback__\u001b[0m\u001b[0;34m)\u001b[0m\u001b[0;34m\u001b[0m\u001b[0;34m\u001b[0m\u001b[0m\n\u001b[0;32m---> 67\u001b[0;31m       \u001b[0;32mraise\u001b[0m \u001b[0me\u001b[0m\u001b[0;34m.\u001b[0m\u001b[0mwith_traceback\u001b[0m\u001b[0;34m(\u001b[0m\u001b[0mfiltered_tb\u001b[0m\u001b[0;34m)\u001b[0m \u001b[0;32mfrom\u001b[0m \u001b[0;32mNone\u001b[0m\u001b[0;34m\u001b[0m\u001b[0;34m\u001b[0m\u001b[0m\n\u001b[0m\u001b[1;32m     68\u001b[0m     \u001b[0;32mfinally\u001b[0m\u001b[0;34m:\u001b[0m\u001b[0;34m\u001b[0m\u001b[0;34m\u001b[0m\u001b[0m\n\u001b[1;32m     69\u001b[0m       \u001b[0;32mdel\u001b[0m \u001b[0mfiltered_tb\u001b[0m\u001b[0;34m\u001b[0m\u001b[0;34m\u001b[0m\u001b[0m\n",
      "\u001b[0;32m/opt/homebrew/Caskroom/miniforge/base/envs/radar/lib/python3.9/site-packages/tensorflow/python/framework/func_graph.py\u001b[0m in \u001b[0;36mautograph_handler\u001b[0;34m(*args, **kwargs)\u001b[0m\n\u001b[1;32m   1127\u001b[0m           \u001b[0;32mexcept\u001b[0m \u001b[0mException\u001b[0m \u001b[0;32mas\u001b[0m \u001b[0me\u001b[0m\u001b[0;34m:\u001b[0m  \u001b[0;31m# pylint:disable=broad-except\u001b[0m\u001b[0;34m\u001b[0m\u001b[0;34m\u001b[0m\u001b[0m\n\u001b[1;32m   1128\u001b[0m             \u001b[0;32mif\u001b[0m \u001b[0mhasattr\u001b[0m\u001b[0;34m(\u001b[0m\u001b[0me\u001b[0m\u001b[0;34m,\u001b[0m \u001b[0;34m\"ag_error_metadata\"\u001b[0m\u001b[0;34m)\u001b[0m\u001b[0;34m:\u001b[0m\u001b[0;34m\u001b[0m\u001b[0;34m\u001b[0m\u001b[0m\n\u001b[0;32m-> 1129\u001b[0;31m               \u001b[0;32mraise\u001b[0m \u001b[0me\u001b[0m\u001b[0;34m.\u001b[0m\u001b[0mag_error_metadata\u001b[0m\u001b[0;34m.\u001b[0m\u001b[0mto_exception\u001b[0m\u001b[0;34m(\u001b[0m\u001b[0me\u001b[0m\u001b[0;34m)\u001b[0m\u001b[0;34m\u001b[0m\u001b[0;34m\u001b[0m\u001b[0m\n\u001b[0m\u001b[1;32m   1130\u001b[0m             \u001b[0;32melse\u001b[0m\u001b[0;34m:\u001b[0m\u001b[0;34m\u001b[0m\u001b[0;34m\u001b[0m\u001b[0m\n\u001b[1;32m   1131\u001b[0m               \u001b[0;32mraise\u001b[0m\u001b[0;34m\u001b[0m\u001b[0;34m\u001b[0m\u001b[0m\n",
      "\u001b[0;31mValueError\u001b[0m: in user code:\n\n    File \"/opt/homebrew/Caskroom/miniforge/base/envs/radar/lib/python3.9/site-packages/keras/engine/training.py\", line 1621, in predict_function  *\n        return step_function(self, iterator)\n    File \"/opt/homebrew/Caskroom/miniforge/base/envs/radar/lib/python3.9/site-packages/keras/engine/training.py\", line 1611, in step_function  **\n        outputs = model.distribute_strategy.run(run_step, args=(data,))\n    File \"/opt/homebrew/Caskroom/miniforge/base/envs/radar/lib/python3.9/site-packages/keras/engine/training.py\", line 1604, in run_step  **\n        outputs = model.predict_step(data)\n    File \"/opt/homebrew/Caskroom/miniforge/base/envs/radar/lib/python3.9/site-packages/keras/engine/training.py\", line 1572, in predict_step\n        return self(x, training=False)\n    File \"/opt/homebrew/Caskroom/miniforge/base/envs/radar/lib/python3.9/site-packages/keras/utils/traceback_utils.py\", line 67, in error_handler\n        raise e.with_traceback(filtered_tb) from None\n    File \"/opt/homebrew/Caskroom/miniforge/base/envs/radar/lib/python3.9/site-packages/keras/engine/input_spec.py\", line 182, in assert_input_compatibility\n        raise ValueError(f'Missing data for input \"{name}\". '\n\n    ValueError: Missing data for input \"input_1\". You passed a data dictionary with keys ['amplitude', 'phase']. Expected the following keys: ['input_1']\n"
     ]
    }
   ],
   "source": [
    "VGG_branch_model = tf.keras.models.load_model('./model/branch_model')\n",
    "VGG_branch_pred = VGG_branch_model.predict({\"amplitude\": test_Split_X_n[:,0,:], \"phase\": test_Split_X_n[:,1,:]})\n",
    "VGG_branch_evl = VGG_branch_model.evaluate({\"amplitude\": test_Split_X_n[:,0,:], \"phase\": test_Split_X_n[:,1,:]}, {\"material_output\" : test_Y})\n",
    "print(VGG_branch_evl)\n",
    "test_Y_class = np.argmax(test_Y, axis = -1)\n",
    "VGG_branch_cm = confusion_matrix(test_Y_class, np.argmax(VGG_branch_pred, axis = -1))\n",
    "\n",
    "print(VGG_branch_cm)\n",
    "heatmap(VGG_branch_cm, 'VGG_branch_cm')"
   ]
  },
  {
   "cell_type": "code",
   "execution_count": null,
   "metadata": {},
   "outputs": [
    {
     "name": "stderr",
     "output_type": "stream",
     "text": [
      "2022-05-11 23:48:27.838551: I tensorflow/core/grappler/optimizers/custom_graph_optimizer_registry.cc:112] Plugin optimizer for device_type GPU is enabled.\n"
     ]
    },
    {
     "name": "stdout",
     "output_type": "stream",
     "text": [
      "1/5 [=====>........................] - ETA: 0s - loss: 1.0511 - accuracy: 0.8125"
     ]
    },
    {
     "name": "stderr",
     "output_type": "stream",
     "text": [
      "2022-05-11 23:48:28.167310: I tensorflow/core/grappler/optimizers/custom_graph_optimizer_registry.cc:112] Plugin optimizer for device_type GPU is enabled.\n"
     ]
    },
    {
     "name": "stdout",
     "output_type": "stream",
     "text": [
      "5/5 [==============================] - 0s 38ms/step - loss: 1.0512 - accuracy: 0.8071\n",
      "[1.0511720180511475, 0.8071428537368774]\n",
      "[[19  0  9  2]\n",
      " [ 0  0  0 10]\n",
      " [ 0  0 28  2]\n",
      " [ 0  1  3 66]]\n"
     ]
    },
    {
     "data": {
      "image/png": "[encoded data removed]",
      "text/plain": [
       "<Figure size 720x720 with 2 Axes>"
      ]
     },
     "metadata": {
      "needs_background": "light"
     },
     "output_type": "display_data"
    }
   ],
   "source": [
    "VGG_branch_model_norm = tf.keras.models.load_model('./model/branch_model_norm')\n",
    "VGG_branch_norm_pred = VGG_branch_model_norm.predict({\"amplitude\": test_Split_X_n[:,0,:], \"phase\": test_Split_X_n[:,1,:]})\n",
    "VGG_branch_norm_evl = VGG_branch_model_norm.evaluate({\"amplitude\": test_Split_X_n[:,0,:], \"phase\": test_Split_X_n[:,1,:]}, {\"material_output\" : test_Y})\n",
    "print(VGG_branch_norm_evl)\n",
    "test_Y_class = np.argmax(test_Y, axis = -1)\n",
    "VGG_branch_norm_cm = confusion_matrix(test_Y_class, np.argmax(VGG_branch_norm_pred, axis = -1))\n",
    "\n",
    "print(VGG_branch_norm_cm)\n",
    "heatmap(VGG_branch_norm_cm, 'VGG_branch_cm')"
   ]
  },
  {
   "cell_type": "code",
   "execution_count": null,
   "metadata": {},
   "outputs": [],
   "source": [
    "def classifier_data(x):\n",
    "    abs_x = np.abs(x)\n",
    "    return np.concatenate((abs_x, np.expand_dims(np.max(abs_x, axis = 1), axis = 1), np.expand_dims(np.min(abs_x, axis = 1), axis = 1), np.expand_dims(np.mean(abs_x, axis = 1), axis = 1)), axis = 1)"
   ]
  },
  {
   "cell_type": "code",
   "execution_count": null,
   "metadata": {},
   "outputs": [],
   "source": [
    "X_c = classifier_data(X)\n",
    "test_X_c = classifier_data(test_X)\n",
    "Y_c = np.argmax(Y, axis = 1)\n",
    "test_Y_c = np.argmax(test_Y, axis = 1)"
   ]
  },
  {
   "cell_type": "code",
   "execution_count": null,
   "metadata": {},
   "outputs": [
    {
     "name": "stdout",
     "output_type": "stream",
     "text": [
      "(460, 170)\n"
     ]
    }
   ],
   "source": [
    "print(X_c.shape)"
   ]
  },
  {
   "cell_type": "code",
   "execution_count": null,
   "metadata": {},
   "outputs": [],
   "source": [
    "from sklearn.ensemble import RandomForestClassifier"
   ]
  },
  {
   "cell_type": "code",
   "execution_count": null,
   "metadata": {},
   "outputs": [
    {
     "data": {
      "text/plain": [
       "RandomForestClassifier(n_estimators=10, random_state=0)"
      ]
     },
     "execution_count": 79,
     "metadata": {},
     "output_type": "execute_result"
    }
   ],
   "source": [
    "model = RandomForestClassifier(n_estimators=10, random_state=0)\n",
    "model.fit(X_c, Y_c)"
   ]
  },
  {
   "cell_type": "code",
   "execution_count": null,
   "metadata": {},
   "outputs": [
    {
     "data": {
      "text/plain": [
       "0.42857142857142855"
      ]
     },
     "execution_count": 81,
     "metadata": {},
     "output_type": "execute_result"
    }
   ],
   "source": [
    "model.score(test_X_c, test_Y_c)"
   ]
  },
  {
   "cell_type": "code",
   "execution_count": null,
   "metadata": {},
   "outputs": [],
   "source": [
    "rf_cm = confusion_matrix(test_Y_c, model.predict(test_X_c))"
   ]
  },
  {
   "cell_type": "code",
   "execution_count": null,
   "metadata": {},
   "outputs": [
    {
     "data": {
      "text/plain": [
       "array([[18,  0,  9,  3],\n",
       "       [ 0,  0,  0, 10],\n",
       "       [ 3,  0, 17, 10],\n",
       "       [ 1, 21, 23, 25]])"
      ]
     },
     "execution_count": 84,
     "metadata": {},
     "output_type": "execute_result"
    }
   ],
   "source": [
    "rf_cm"
   ]
  },
  {
   "cell_type": "code",
   "execution_count": null,
   "metadata": {},
   "outputs": [
    {
     "data": {
      "image/png": "[encoded data removed]",
      "text/plain": [
       "<Figure size 720x720 with 2 Axes>"
      ]
     },
     "metadata": {
      "needs_background": "light"
     },
     "output_type": "display_data"
    }
   ],
   "source": [
    "heatmap(rf_cm, 'random forest cm')"
   ]
  },
  {
   "cell_type": "code",
   "execution_count": null,
   "metadata": {},
   "outputs": [],
   "source": []
  }
 ],
 "metadata": {
  "kernelspec": {
   "display_name": "Python 3.8.12 ('radar')",
   "language": "python",
   "name": "python3"
  },
  "language_info": {
   "codemirror_mode": {
    "name": "ipython",
    "version": 3
   },
   "file_extension": ".py",
   "mimetype": "text/x-python",
   "name": "python",
   "nbconvert_exporter": "python",
   "pygments_lexer": "ipython3",
   "version": "3.8.12"
  },
  "orig_nbformat": 4,
  "vscode": {
   "interpreter": {
    "hash": "dea347e98226a0e23d2c967d9a0ab2a62ac04f9a7895aa5011026f33e6be1d75"
   }
  }
 },
 "nbformat": 4,
 "nbformat_minor": 2
}
