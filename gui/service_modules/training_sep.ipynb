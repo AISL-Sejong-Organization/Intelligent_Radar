{
 "cells": [
  {
   "cell_type": "code",
   "execution_count": 1,
   "metadata": {},
   "outputs": [],
   "source": [
    "import numpy as np\n",
    "import tensorflow as tf\n",
    "import os\n",
    "import copy\n",
    "from math import pi\n",
    "from sklearn.metrics import accuracy_score, confusion_matrix\n",
    "import seaborn as sns\n",
    "from pandas import DataFrame as DF\n",
    "\n",
    "from tensorflow import keras\n",
    "from tensorflow.keras import layers\n",
    "from tensorflow.keras import layers, models\n",
    "import matplotlib.pyplot as plt\n",
    "from classifier import preprocessing as prep"
   ]
  },
  {
   "cell_type": "code",
   "execution_count": 2,
   "metadata": {},
   "outputs": [],
   "source": [
    "maximum = 0"
   ]
  },
  {
   "cell_type": "code",
   "execution_count": 3,
   "metadata": {},
   "outputs": [],
   "source": [
    "def heatmap(matrix,title):\n",
    "    df=DF(matrix,index=[\"Can\",\"Paper\",\"Glass\",\"Plastic\"],columns=[\"Can\",\"Paper\",\"Glass\",\"Plastic\"])\n",
    "    plt.figure(figsize=(10,10))\n",
    "    sns.heatmap(df, annot=True)\n",
    "    plt.tick_params(axis='x', top=True, labeltop = True,bottom=False, labelbottom=False)\n",
    "    plt.xticks(np.arange(0.5, len(df.columns), 1), df.columns)\n",
    "    plt.yticks(np.arange(0.5, len(df.index), 1), df.index)\n",
    "    plt.xlabel(\"Prediction\",position = (0.5,1.0+0.05))\n",
    "    plt.ylabel(\"Object\")\n",
    "    plt.title(title)"
   ]
  },
  {
   "cell_type": "code",
   "execution_count": 4,
   "metadata": {},
   "outputs": [],
   "source": [
    "class_names = ['empty','can','paper','glass','plastic']"
   ]
  },
  {
   "cell_type": "code",
   "execution_count": 5,
   "metadata": {},
   "outputs": [],
   "source": [
    "# label2idx_Dict = {\n",
    "#                 'empty' : 0,\n",
    "#                 'can' : 1,\n",
    "#                 'paper' : 2,\n",
    "#                 'glass' : 3,\n",
    "#                 'plastic' : 4,\n",
    "#             }\n",
    "\n",
    "# idx2label_Dict = {\n",
    "#     0 : 'empty',\n",
    "#     1 : 'can',\n",
    "#     2 : 'paper',\n",
    "#     3 : 'glass',\n",
    "#     4 : 'plastic',\n",
    "# }\n",
    "label2idx_Dict = {\n",
    "                # 'empty' : 0,\n",
    "                'can' : 0,\n",
    "                'paper' : 1,\n",
    "                'glass' : 2,\n",
    "                'plastic' : 3,\n",
    "            }\n",
    "\n",
    "idx2label_Dict = {\n",
    "    # 0 : 'empty',\n",
    "    0 : 'can',\n",
    "    1 : 'paper',\n",
    "    2 : 'glass',\n",
    "    3 : 'plastic',\n",
    "}\n",
    "\n",
    "\n",
    "dir_path = './data/train'\n",
    "test_dir_path = './data/test'\n",
    "\n",
    "def readNpy(dir_path):\n",
    "    class_num = len(idx2label_Dict)\n",
    "\n",
    "    Empty = list()\n",
    "    Can = list()\n",
    "    Paper = list()\n",
    "    Glass = list()\n",
    "    Plastic = list()\n",
    "    Empty = np.array(Empty)\n",
    "    Can = np.array(Can)\n",
    "    Paper = np.array(Paper)\n",
    "    Glass = np.array(Glass)\n",
    "    Plastic = np.array(Plastic)\n",
    "\n",
    "    for dir in os.listdir(dir_path):\n",
    "        d_path = os.path.join(dir_path, dir)\n",
    "        file_list = os.listdir(d_path)\n",
    "        for file in file_list:\n",
    "            file_path = os.path.join(d_path, file)\n",
    "            if dir == 'can':\n",
    "                if len(Can) == 0:\n",
    "                    Can = np.load(file_path, allow_pickle=True)\n",
    "                else :\n",
    "                    Can = np.append(Can, np.load(file_path), axis = 0)\n",
    "            elif dir == 'paper':\n",
    "                if len(Paper) == 0:\n",
    "                    Paper = np.load(file_path, allow_pickle=True)\n",
    "                else :\n",
    "                    Paper = np.append(Paper, np.load(file_path), axis = 0)\n",
    "            elif dir == 'glass':\n",
    "                if len(Glass) == 0:\n",
    "                    Glass = np.load(file_path, allow_pickle=True)\n",
    "                else:\n",
    "                    Glass = np.append(Glass, np.load(file_path), axis = 0)\n",
    "            elif dir == 'plastic':\n",
    "                if len(Plastic) == 0:\n",
    "                    Plastic = np.load(file_path, allow_pickle=True)\n",
    "                else:\n",
    "                    Plastic = np.append(Plastic, np.load(file_path), axis = 0)\n",
    "            # elif dir == 'empty':\n",
    "            #     if len(Empty) == 0:\n",
    "            #         Empty = np.load(file_path, allow_pickle=True)\n",
    "            #     else:\n",
    "            #         Empty = np.append(Empty, np.load(file_path), axis = 0)\n",
    "    bound = Can.shape[1]\n",
    "    # Empty_label = np.full((Empty.shape[0], class_num), np.eye(len(label2idx_Dict))[label2idx_Dict['empty']])\n",
    "    Can_label = np.full((Can.shape[0],class_num), np.eye(len(label2idx_Dict))[label2idx_Dict['can']])\n",
    "    Paper_label = np.full((Paper.shape[0],class_num), np.eye(len(label2idx_Dict))[label2idx_Dict['paper']])\n",
    "    Glass_label = np.full((Glass.shape[0],class_num), np.eye(len(label2idx_Dict))[label2idx_Dict['glass']])\n",
    "    Plastic_label = np.full((Plastic.shape[0],class_num), np.eye(len(label2idx_Dict))[label2idx_Dict['plastic']])\n",
    "\n",
    "    # Empty = np.concatenate((Empty, Empty_label), axis=1)\n",
    "    Can = np.concatenate((Can, Can_label), axis=1)\n",
    "    Paper = np.concatenate((Paper, Paper_label), axis=1)\n",
    "    Glass = np.concatenate((Glass, Glass_label), axis=1)\n",
    "    Plastic = np.concatenate((Plastic, Plastic_label), axis=1)\n",
    "    array = Can\n",
    "    array = np.append(array, Paper, axis = 0)\n",
    "    array = np.append(array, Glass, axis = 0)\n",
    "    array = np.append(array, Plastic, axis = 0)\n",
    "    # array = np.append(array, Empty, axis = 0)\n",
    "    s = np.arange(array.shape[0])\n",
    "    np.random.shuffle(s)\n",
    "    array_s = array[s]\n",
    "\n",
    "    X = array_s[:,:bound]\n",
    "    Y = np.real(array_s[:,bound:])\n",
    "    return copy.deepcopy(X), copy.deepcopy(Y)\n",
    "\n",
    "X, Y = readNpy(dir_path)\n",
    "\n",
    "test_X, test_Y= readNpy(test_dir_path)"
   ]
  },
  {
   "cell_type": "code",
   "execution_count": 6,
   "metadata": {},
   "outputs": [
    {
     "name": "stdout",
     "output_type": "stream",
     "text": [
      "1563.3131995860588\n",
      "3.141592653589793\n"
     ]
    }
   ],
   "source": [
    "print(np.max(np.abs(X)))\n",
    "print(np.max(np.angle(X)))"
   ]
  },
  {
   "cell_type": "code",
   "execution_count": 7,
   "metadata": {},
   "outputs": [
    {
     "name": "stdout",
     "output_type": "stream",
     "text": [
      "(460, 167)\n"
     ]
    }
   ],
   "source": [
    "print(X.shape)"
   ]
  },
  {
   "cell_type": "code",
   "execution_count": 8,
   "metadata": {},
   "outputs": [],
   "source": [
    "def seperater(arr):\n",
    "    global maximum\n",
    "    pre_data = arr\n",
    "    amp = np.abs(pre_data)\n",
    "    amp = amp / maximum\n",
    "    phs = np.angle(pre_data)\n",
    "    # phs = (phs - (- pi)) / (pi - (- pi))\n",
    "    sin = np.sin(phs)\n",
    "    sin = (sin + 1) / 2\n",
    "    seperated_data = np.stack((amp.T,sin.T), axis=0)\n",
    "    seperated_data = np.expand_dims(seperated_data, axis=0)\n",
    "    return np.array(seperated_data)"
   ]
  },
  {
   "cell_type": "code",
   "execution_count": 9,
   "metadata": {},
   "outputs": [],
   "source": [
    "def dataSeperator(arr):\n",
    "    temp = copy.deepcopy(seperater(arr[0]))\n",
    "    for i in range(1, len(arr)):\n",
    "        temp = np.concatenate((temp, seperater(arr[i])), axis=0)\n",
    "    return temp"
   ]
  },
  {
   "cell_type": "code",
   "execution_count": 34,
   "metadata": {},
   "outputs": [],
   "source": [
    "maximum = 1\n",
    "Split_X = dataSeperator(X)\n",
    "test_Split_X = dataSeperator(test_X)"
   ]
  },
  {
   "cell_type": "code",
   "execution_count": 35,
   "metadata": {},
   "outputs": [],
   "source": [
    "maximum = np.max(np.abs(X))\n",
    "Split_X_n = dataSeperator(X)\n",
    "test_Split_X_n = dataSeperator(test_X)"
   ]
  },
  {
   "cell_type": "code",
   "execution_count": 13,
   "metadata": {},
   "outputs": [
    {
     "name": "stdout",
     "output_type": "stream",
     "text": [
      "(460, 4) (460, 2, 167)\n"
     ]
    }
   ],
   "source": [
    "print(Y.shape, Split_X_n.shape)"
   ]
  },
  {
   "cell_type": "code",
   "execution_count": 14,
   "metadata": {},
   "outputs": [],
   "source": [
    "def plotting(history, title):\n",
    "    plt.plot(history.history['accuracy'])\n",
    "    plt.plot(history.history['val_accuracy'])\n",
    "    plt.title('Model accuracy ' + title)\n",
    "    plt.xlabel('Epoch')\n",
    "    plt.ylabel('Accuracy')\n",
    "    plt.legend(['Train', 'Test'], loc='upper left')\n",
    "    plt.show()"
   ]
  },
  {
   "cell_type": "code",
   "execution_count": 15,
   "metadata": {},
   "outputs": [
    {
     "name": "stdout",
     "output_type": "stream",
     "text": [
      "2\n"
     ]
    }
   ],
   "source": [
    "print(np.argmax(Y[2]))"
   ]
  },
  {
   "cell_type": "code",
   "execution_count": 16,
   "metadata": {},
   "outputs": [
    {
     "name": "stdout",
     "output_type": "stream",
     "text": [
      "can\n",
      "paper\n",
      "glass\n",
      "plastic\n"
     ]
    }
   ],
   "source": [
    "for i in label2idx_Dict:\n",
    "    print(i)"
   ]
  },
  {
   "cell_type": "code",
   "execution_count": 17,
   "metadata": {},
   "outputs": [],
   "source": [
    "def data_plot(array, Y):\n",
    "    x = np.linspace(13,18,array.shape[2])\n",
    "    for i in label2idx_Dict:\n",
    "        for j in range(len(array)):\n",
    "            if np.argmax(Y[j]) == label2idx_Dict[i]:\n",
    "                plt.subplot(len(label2idx_Dict) * 2,1, label2idx_Dict[i]*2 + 1)\n",
    "                plt.title(i)\n",
    "                plt.plot(x ,array[j][0])\n",
    "                plt.subplot(len(label2idx_Dict) * 2,1, (label2idx_Dict[i]*2 + 2))\n",
    "                plt.plot(x, array[j][1])\n",
    "    \n",
    "    plt.show"
   ]
  },
  {
   "cell_type": "code",
   "execution_count": 18,
   "metadata": {},
   "outputs": [],
   "source": [
    "plt.rcParams[\"figure.figsize\"] = (10,40)"
   ]
  },
  {
   "cell_type": "code",
   "execution_count": 23,
   "metadata": {},
   "outputs": [],
   "source": [
    "# data_plot(Split_X_n, Y)"
   ]
  },
  {
   "cell_type": "code",
   "execution_count": 24,
   "metadata": {},
   "outputs": [
    {
     "name": "stdout",
     "output_type": "stream",
     "text": [
      "(460, 2, 167)\n"
     ]
    }
   ],
   "source": [
    "print(Split_X_n.shape)"
   ]
  },
  {
   "cell_type": "code",
   "execution_count": 26,
   "metadata": {},
   "outputs": [],
   "source": [
    "def VGG_branch(X, Y, test_X, test_Y, cp_filepath, EPOCH=10):\n",
    "    \n",
    "    amp_input = keras.Input(shape=(X.shape[2],1), name=\"amplitude\")\n",
    "    phs_input = keras.Input(shape=(X.shape[2],1), name='phase')\n",
    "    \n",
    "    amp_features = layers.Conv1D(64, (3), activation = 'relu', input_shape = (X.shape[2], 1), padding = 'same')(amp_input)\n",
    "    amp_features = layers.Conv1D(64, (3), activation = 'relu', padding = 'same')(amp_features)\n",
    "    amp_features = layers.MaxPool1D(2)(amp_features)\n",
    "    amp_features = layers.Conv1D(128, (3), activation = 'relu', padding = 'same')(amp_features)\n",
    "    amp_features = layers.Conv1D(128, (3), activation = 'relu', padding = 'same')(amp_features)\n",
    "    amp_features = layers.MaxPool1D(2)(amp_features)\n",
    "    amp_features = layers.Conv1D(256,(3), activation = 'relu', padding = 'same')(amp_features)\n",
    "    amp_features = layers.Conv1D(256,(3), activation = 'relu', padding = 'same')(amp_features)\n",
    "    amp_features = layers.Conv1D(256,(3), activation = 'relu', padding = 'same')(amp_features)\n",
    "    amp_features = layers.Conv1D(256,(3), activation = 'relu', padding = 'same')(amp_features)\n",
    "    amp_features = layers.MaxPool1D(2)(amp_features)\n",
    "    amp_features = layers.Flatten()(amp_features)\n",
    "\n",
    "    phs_features = layers.Conv1D(64, (3), activation = 'relu', input_shape = (X.shape[2], 1), padding = 'same')(phs_input)\n",
    "    phs_features = layers.Conv1D(64, (3), activation = 'relu', padding = 'same')(phs_features)\n",
    "    phs_features = layers.MaxPool1D(2)(phs_features)\n",
    "    phs_features = layers.Conv1D(128, (3), activation = 'relu', padding = 'same')(phs_features)\n",
    "    phs_features = layers.Conv1D(128, (3), activation = 'relu', padding = 'same')(phs_features)\n",
    "    phs_features = layers.MaxPool1D(2)(phs_features)\n",
    "    phs_features = layers.Conv1D(256,(3), activation = 'relu', padding = 'same')(phs_features)\n",
    "    phs_features = layers.Conv1D(256,(3), activation = 'relu', padding = 'same')(phs_features)\n",
    "    phs_features = layers.Conv1D(256,(3), activation = 'relu', padding = 'same')(phs_features)\n",
    "    phs_features = layers.Conv1D(256,(3), activation = 'relu', padding = 'same')(phs_features)\n",
    "    phs_features = layers.MaxPool1D(2)(phs_features)\n",
    "    phs_features = layers.Flatten()(phs_features)\n",
    "\n",
    "    x = layers.concatenate([amp_features, phs_features], axis = -1)\n",
    "    x = layers.Dense(4096, activation = 'relu')(x)\n",
    "    x = layers.Dropout(0.9)(x)\n",
    "    x = layers.Dense(4096, activation = 'relu')(x)\n",
    "    x = layers.Dropout(0.9)(x)\n",
    "    # material_output = layers.Dense(5, activation = 'softmax', name = 'material_output')(x)\n",
    "    material_output = layers.Dense(4, activation = 'softmax', name = 'material_output')(x)\n",
    "\n",
    "    model = keras.Model(inputs = [amp_input, phs_input],\n",
    "                        outputs = [material_output],)\n",
    "\n",
    "    model.summary()\n",
    "    keras.utils.plot_model(model, \"./branced_model.png\", show_shapes=True)\n",
    "    model.compile(optimizer = 'adam', loss = tf.keras.losses.CategoricalCrossentropy(), metrics=['accuracy'])\n",
    "    checkpoint_filepath = cp_filepath\n",
    "    callback = tf.keras.callbacks.ModelCheckpoint(\n",
    "        filepath = './model/' + checkpoint_filepath,\n",
    "        monitor='val_accuracy',\n",
    "        mode='max',\n",
    "        save_best_only = True,\n",
    "        save_weigths_only = False,\n",
    "    )\n",
    "    log_dir = './logs/fit/'\n",
    "    tensorboard_callback = tf.keras.callbacks.TensorBoard(log_dir = log_dir, histogram_freq = 1)\n",
    "\n",
    "    return model.fit(\n",
    "    {\"amplitude\": X[:,0,:], \"phase\": X[:,1,:]},\n",
    "    {\"material_output\": Y},\n",
    "    batch_size = 32,\n",
    "    epochs=EPOCH,\n",
    "    validation_data = ({\"amplitude\" : test_X[:,0,:], \"phase\": test_X[:,1,:]}, {\"material_output\" : test_Y}),\n",
    "    callbacks = [callback, tensorboard_callback]\n",
    "    )"
   ]
  },
  {
   "cell_type": "code",
   "execution_count": 28,
   "metadata": {},
   "outputs": [
    {
     "name": "stdout",
     "output_type": "stream",
     "text": [
      "Model: \"model_1\"\n",
      "__________________________________________________________________________________________________\n",
      " Layer (type)                   Output Shape         Param #     Connected to                     \n",
      "==================================================================================================\n",
      " amplitude (InputLayer)         [(None, 167, 1)]     0           []                               \n",
      "                                                                                                  \n",
      " phase (InputLayer)             [(None, 167, 1)]     0           []                               \n",
      "                                                                                                  \n",
      " conv1d_16 (Conv1D)             (None, 167, 64)      256         ['amplitude[0][0]']              \n",
      "                                                                                                  \n",
      " conv1d_24 (Conv1D)             (None, 167, 64)      256         ['phase[0][0]']                  \n",
      "                                                                                                  \n",
      " conv1d_17 (Conv1D)             (None, 167, 64)      12352       ['conv1d_16[0][0]']              \n",
      "                                                                                                  \n",
      " conv1d_25 (Conv1D)             (None, 167, 64)      12352       ['conv1d_24[0][0]']              \n",
      "                                                                                                  \n",
      " max_pooling1d_6 (MaxPooling1D)  (None, 83, 64)      0           ['conv1d_17[0][0]']              \n",
      "                                                                                                  \n",
      " max_pooling1d_9 (MaxPooling1D)  (None, 83, 64)      0           ['conv1d_25[0][0]']              \n",
      "                                                                                                  \n",
      " conv1d_18 (Conv1D)             (None, 83, 128)      24704       ['max_pooling1d_6[0][0]']        \n",
      "                                                                                                  \n",
      " conv1d_26 (Conv1D)             (None, 83, 128)      24704       ['max_pooling1d_9[0][0]']        \n",
      "                                                                                                  \n",
      " conv1d_19 (Conv1D)             (None, 83, 128)      49280       ['conv1d_18[0][0]']              \n",
      "                                                                                                  \n",
      " conv1d_27 (Conv1D)             (None, 83, 128)      49280       ['conv1d_26[0][0]']              \n",
      "                                                                                                  \n",
      " max_pooling1d_7 (MaxPooling1D)  (None, 41, 128)     0           ['conv1d_19[0][0]']              \n",
      "                                                                                                  \n",
      " max_pooling1d_10 (MaxPooling1D  (None, 41, 128)     0           ['conv1d_27[0][0]']              \n",
      " )                                                                                                \n",
      "                                                                                                  \n",
      " conv1d_20 (Conv1D)             (None, 41, 256)      98560       ['max_pooling1d_7[0][0]']        \n",
      "                                                                                                  \n",
      " conv1d_28 (Conv1D)             (None, 41, 256)      98560       ['max_pooling1d_10[0][0]']       \n",
      "                                                                                                  \n",
      " conv1d_21 (Conv1D)             (None, 41, 256)      196864      ['conv1d_20[0][0]']              \n",
      "                                                                                                  \n",
      " conv1d_29 (Conv1D)             (None, 41, 256)      196864      ['conv1d_28[0][0]']              \n",
      "                                                                                                  \n",
      " conv1d_22 (Conv1D)             (None, 41, 256)      196864      ['conv1d_21[0][0]']              \n",
      "                                                                                                  \n",
      " conv1d_30 (Conv1D)             (None, 41, 256)      196864      ['conv1d_29[0][0]']              \n",
      "                                                                                                  \n",
      " conv1d_23 (Conv1D)             (None, 41, 256)      196864      ['conv1d_22[0][0]']              \n",
      "                                                                                                  \n",
      " conv1d_31 (Conv1D)             (None, 41, 256)      196864      ['conv1d_30[0][0]']              \n",
      "                                                                                                  \n",
      " max_pooling1d_8 (MaxPooling1D)  (None, 20, 256)     0           ['conv1d_23[0][0]']              \n",
      "                                                                                                  \n",
      " max_pooling1d_11 (MaxPooling1D  (None, 20, 256)     0           ['conv1d_31[0][0]']              \n",
      " )                                                                                                \n",
      "                                                                                                  \n",
      " flatten_2 (Flatten)            (None, 5120)         0           ['max_pooling1d_8[0][0]']        \n",
      "                                                                                                  \n",
      " flatten_3 (Flatten)            (None, 5120)         0           ['max_pooling1d_11[0][0]']       \n",
      "                                                                                                  \n",
      " concatenate_1 (Concatenate)    (None, 10240)        0           ['flatten_2[0][0]',              \n",
      "                                                                  'flatten_3[0][0]']              \n",
      "                                                                                                  \n",
      " dense_2 (Dense)                (None, 4096)         41947136    ['concatenate_1[0][0]']          \n",
      "                                                                                                  \n",
      " dropout_2 (Dropout)            (None, 4096)         0           ['dense_2[0][0]']                \n",
      "                                                                                                  \n",
      " dense_3 (Dense)                (None, 4096)         16781312    ['dropout_2[0][0]']              \n",
      "                                                                                                  \n",
      " dropout_3 (Dropout)            (None, 4096)         0           ['dense_3[0][0]']                \n",
      "                                                                                                  \n",
      " material_output (Dense)        (None, 4)            16388       ['dropout_3[0][0]']              \n",
      "                                                                                                  \n",
      "==================================================================================================\n",
      "Total params: 60,296,324\n",
      "Trainable params: 60,296,324\n",
      "Non-trainable params: 0\n",
      "__________________________________________________________________________________________________\n",
      "Epoch 1/30\n"
     ]
    },
    {
     "name": "stderr",
     "output_type": "stream",
     "text": [
      "2022-05-11 23:12:33.537556: I tensorflow/core/grappler/optimizers/custom_graph_optimizer_registry.cc:112] Plugin optimizer for device_type GPU is enabled.\n"
     ]
    },
    {
     "name": "stdout",
     "output_type": "stream",
     "text": [
      "15/15 [==============================] - ETA: 0s - loss: 14.5455 - accuracy: 0.2543"
     ]
    },
    {
     "name": "stderr",
     "output_type": "stream",
     "text": [
      "2022-05-11 23:12:34.584039: I tensorflow/core/grappler/optimizers/custom_graph_optimizer_registry.cc:112] Plugin optimizer for device_type GPU is enabled.\n"
     ]
    },
    {
     "name": "stdout",
     "output_type": "stream",
     "text": [
      "INFO:tensorflow:Assets written to: ./model/branch_model/assets\n",
      "15/15 [==============================] - 11s 737ms/step - loss: 14.5455 - accuracy: 0.2543 - val_loss: 1.3442 - val_accuracy: 0.4643\n",
      "Epoch 2/30\n",
      "15/15 [==============================] - ETA: 0s - loss: 1.4437 - accuracy: 0.2652INFO:tensorflow:Assets written to: ./model/branch_model/assets\n",
      "15/15 [==============================] - 9s 631ms/step - loss: 1.4437 - accuracy: 0.2652 - val_loss: 1.3756 - val_accuracy: 0.5000\n",
      "Epoch 3/30\n",
      "15/15 [==============================] - 7s 458ms/step - loss: 1.3785 - accuracy: 0.3239 - val_loss: 1.3675 - val_accuracy: 0.5000\n",
      "Epoch 4/30\n",
      "15/15 [==============================] - ETA: 0s - loss: 1.3128 - accuracy: 0.3609INFO:tensorflow:Assets written to: ./model/branch_model/assets\n",
      "15/15 [==============================] - 10s 690ms/step - loss: 1.3128 - accuracy: 0.3609 - val_loss: 1.3245 - val_accuracy: 0.7143\n",
      "Epoch 5/30\n",
      "15/15 [==============================] - 7s 492ms/step - loss: 1.2180 - accuracy: 0.4217 - val_loss: 1.2680 - val_accuracy: 0.7000\n",
      "Epoch 6/30\n",
      "15/15 [==============================] - 7s 455ms/step - loss: 1.1664 - accuracy: 0.4543 - val_loss: 1.2794 - val_accuracy: 0.6429\n",
      "Epoch 7/30\n",
      "15/15 [==============================] - 7s 469ms/step - loss: 1.1242 - accuracy: 0.4761 - val_loss: 1.2291 - val_accuracy: 0.6929\n",
      "Epoch 8/30\n",
      "15/15 [==============================] - 7s 470ms/step - loss: 1.1524 - accuracy: 0.4174 - val_loss: 1.2668 - val_accuracy: 0.4143\n",
      "Epoch 9/30\n",
      "15/15 [==============================] - 6s 409ms/step - loss: 1.0929 - accuracy: 0.4891 - val_loss: 1.2294 - val_accuracy: 0.5429\n",
      "Epoch 10/30\n",
      "15/15 [==============================] - 7s 480ms/step - loss: 1.0370 - accuracy: 0.4957 - val_loss: 1.2036 - val_accuracy: 0.5786\n",
      "Epoch 11/30\n",
      "15/15 [==============================] - ETA: 0s - loss: 1.0692 - accuracy: 0.4630INFO:tensorflow:Assets written to: ./model/branch_model/assets\n",
      "15/15 [==============================] - 10s 681ms/step - loss: 1.0692 - accuracy: 0.4630 - val_loss: 1.1258 - val_accuracy: 0.7857\n",
      "Epoch 12/30\n",
      "15/15 [==============================] - 6s 432ms/step - loss: 1.0894 - accuracy: 0.4391 - val_loss: 1.1818 - val_accuracy: 0.6429\n",
      "Epoch 13/30\n",
      "15/15 [==============================] - 6s 428ms/step - loss: 1.0372 - accuracy: 0.5065 - val_loss: 1.1713 - val_accuracy: 0.5571\n",
      "Epoch 14/30\n",
      "15/15 [==============================] - 6s 430ms/step - loss: 1.0387 - accuracy: 0.5196 - val_loss: 1.2009 - val_accuracy: 0.3786\n",
      "Epoch 15/30\n",
      "15/15 [==============================] - 7s 455ms/step - loss: 1.0338 - accuracy: 0.5152 - val_loss: 1.1503 - val_accuracy: 0.5929\n",
      "Epoch 16/30\n",
      "15/15 [==============================] - 6s 431ms/step - loss: 1.0691 - accuracy: 0.4717 - val_loss: 1.1342 - val_accuracy: 0.7143\n",
      "Epoch 17/30\n",
      "15/15 [==============================] - 7s 459ms/step - loss: 1.0468 - accuracy: 0.5022 - val_loss: 1.1601 - val_accuracy: 0.6500\n",
      "Epoch 18/30\n",
      "15/15 [==============================] - 6s 387ms/step - loss: 1.0278 - accuracy: 0.5478 - val_loss: 1.2225 - val_accuracy: 0.2143\n",
      "Epoch 19/30\n",
      "15/15 [==============================] - 6s 414ms/step - loss: 1.0359 - accuracy: 0.5065 - val_loss: 1.1588 - val_accuracy: 0.5500\n",
      "Epoch 20/30\n",
      "15/15 [==============================] - 5s 356ms/step - loss: 1.0331 - accuracy: 0.4826 - val_loss: 1.1242 - val_accuracy: 0.5857\n",
      "Epoch 21/30\n",
      "15/15 [==============================] - 6s 410ms/step - loss: 1.0481 - accuracy: 0.4891 - val_loss: 1.2308 - val_accuracy: 0.4500\n",
      "Epoch 22/30\n",
      "15/15 [==============================] - 5s 374ms/step - loss: 1.0366 - accuracy: 0.5130 - val_loss: 1.1124 - val_accuracy: 0.7071\n",
      "Epoch 23/30\n",
      "15/15 [==============================] - 6s 397ms/step - loss: 1.0356 - accuracy: 0.5196 - val_loss: 1.1333 - val_accuracy: 0.6071\n",
      "Epoch 24/30\n",
      "15/15 [==============================] - 6s 389ms/step - loss: 1.0161 - accuracy: 0.5022 - val_loss: 1.1463 - val_accuracy: 0.5714\n",
      "Epoch 25/30\n",
      "15/15 [==============================] - 6s 407ms/step - loss: 1.0260 - accuracy: 0.5217 - val_loss: 1.1249 - val_accuracy: 0.6857\n",
      "Epoch 26/30\n",
      "15/15 [==============================] - 6s 434ms/step - loss: 1.0331 - accuracy: 0.5239 - val_loss: 1.1307 - val_accuracy: 0.6286\n",
      "Epoch 27/30\n",
      "15/15 [==============================] - 5s 364ms/step - loss: 1.0222 - accuracy: 0.5196 - val_loss: 1.2059 - val_accuracy: 0.3500\n",
      "Epoch 28/30\n",
      "15/15 [==============================] - 5s 365ms/step - loss: 1.0291 - accuracy: 0.5304 - val_loss: 1.1606 - val_accuracy: 0.4786\n",
      "Epoch 29/30\n",
      "15/15 [==============================] - 6s 408ms/step - loss: 1.0288 - accuracy: 0.5022 - val_loss: 1.0923 - val_accuracy: 0.7286\n",
      "Epoch 30/30\n",
      "15/15 [==============================] - 6s 396ms/step - loss: 0.9938 - accuracy: 0.5239 - val_loss: 1.1415 - val_accuracy: 0.5500\n"
     ]
    },
    {
     "data": {
      "image/png": "[encoded data removed]",
      "text/plain": [
       "<Figure size 288x144 with 1 Axes>"
      ]
     },
     "metadata": {
      "needs_background": "light"
     },
     "output_type": "display_data"
    }
   ],
   "source": [
    "VGG_branch_hist = VGG_branch(Split_X, Y, test_X = test_Split_X, test_Y = test_Y, EPOCH=30, cp_filepath='branch_model')\n",
    "plt.rcParams[\"figure.figsize\"] = (4,2)\n",
    "plotting(VGG_branch_hist, 'VGG branch')"
   ]
  },
  {
   "cell_type": "code",
   "execution_count": 29,
   "metadata": {},
   "outputs": [
    {
     "name": "stdout",
     "output_type": "stream",
     "text": [
      "0.7857142686843872\n"
     ]
    }
   ],
   "source": [
    "print(max(VGG_branch_hist.history['val_accuracy']))"
   ]
  },
  {
   "cell_type": "code",
   "execution_count": 37,
   "metadata": {},
   "outputs": [
    {
     "name": "stdout",
     "output_type": "stream",
     "text": [
      "Model: \"model_3\"\n",
      "__________________________________________________________________________________________________\n",
      " Layer (type)                   Output Shape         Param #     Connected to                     \n",
      "==================================================================================================\n",
      " amplitude (InputLayer)         [(None, 167, 1)]     0           []                               \n",
      "                                                                                                  \n",
      " phase (InputLayer)             [(None, 167, 1)]     0           []                               \n",
      "                                                                                                  \n",
      " conv1d_48 (Conv1D)             (None, 167, 64)      256         ['amplitude[0][0]']              \n",
      "                                                                                                  \n",
      " conv1d_56 (Conv1D)             (None, 167, 64)      256         ['phase[0][0]']                  \n",
      "                                                                                                  \n",
      " conv1d_49 (Conv1D)             (None, 167, 64)      12352       ['conv1d_48[0][0]']              \n",
      "                                                                                                  \n",
      " conv1d_57 (Conv1D)             (None, 167, 64)      12352       ['conv1d_56[0][0]']              \n",
      "                                                                                                  \n",
      " max_pooling1d_18 (MaxPooling1D  (None, 83, 64)      0           ['conv1d_49[0][0]']              \n",
      " )                                                                                                \n",
      "                                                                                                  \n",
      " max_pooling1d_21 (MaxPooling1D  (None, 83, 64)      0           ['conv1d_57[0][0]']              \n",
      " )                                                                                                \n",
      "                                                                                                  \n",
      " conv1d_50 (Conv1D)             (None, 83, 128)      24704       ['max_pooling1d_18[0][0]']       \n",
      "                                                                                                  \n",
      " conv1d_58 (Conv1D)             (None, 83, 128)      24704       ['max_pooling1d_21[0][0]']       \n",
      "                                                                                                  \n",
      " conv1d_51 (Conv1D)             (None, 83, 128)      49280       ['conv1d_50[0][0]']              \n",
      "                                                                                                  \n",
      " conv1d_59 (Conv1D)             (None, 83, 128)      49280       ['conv1d_58[0][0]']              \n",
      "                                                                                                  \n",
      " max_pooling1d_19 (MaxPooling1D  (None, 41, 128)     0           ['conv1d_51[0][0]']              \n",
      " )                                                                                                \n",
      "                                                                                                  \n",
      " max_pooling1d_22 (MaxPooling1D  (None, 41, 128)     0           ['conv1d_59[0][0]']              \n",
      " )                                                                                                \n",
      "                                                                                                  \n",
      " conv1d_52 (Conv1D)             (None, 41, 256)      98560       ['max_pooling1d_19[0][0]']       \n",
      "                                                                                                  \n",
      " conv1d_60 (Conv1D)             (None, 41, 256)      98560       ['max_pooling1d_22[0][0]']       \n",
      "                                                                                                  \n",
      " conv1d_53 (Conv1D)             (None, 41, 256)      196864      ['conv1d_52[0][0]']              \n",
      "                                                                                                  \n",
      " conv1d_61 (Conv1D)             (None, 41, 256)      196864      ['conv1d_60[0][0]']              \n",
      "                                                                                                  \n",
      " conv1d_54 (Conv1D)             (None, 41, 256)      196864      ['conv1d_53[0][0]']              \n",
      "                                                                                                  \n",
      " conv1d_62 (Conv1D)             (None, 41, 256)      196864      ['conv1d_61[0][0]']              \n",
      "                                                                                                  \n",
      " conv1d_55 (Conv1D)             (None, 41, 256)      196864      ['conv1d_54[0][0]']              \n",
      "                                                                                                  \n",
      " conv1d_63 (Conv1D)             (None, 41, 256)      196864      ['conv1d_62[0][0]']              \n",
      "                                                                                                  \n",
      " max_pooling1d_20 (MaxPooling1D  (None, 20, 256)     0           ['conv1d_55[0][0]']              \n",
      " )                                                                                                \n",
      "                                                                                                  \n",
      " max_pooling1d_23 (MaxPooling1D  (None, 20, 256)     0           ['conv1d_63[0][0]']              \n",
      " )                                                                                                \n",
      "                                                                                                  \n",
      " flatten_6 (Flatten)            (None, 5120)         0           ['max_pooling1d_20[0][0]']       \n",
      "                                                                                                  \n",
      " flatten_7 (Flatten)            (None, 5120)         0           ['max_pooling1d_23[0][0]']       \n",
      "                                                                                                  \n",
      " concatenate_3 (Concatenate)    (None, 10240)        0           ['flatten_6[0][0]',              \n",
      "                                                                  'flatten_7[0][0]']              \n",
      "                                                                                                  \n",
      " dense_6 (Dense)                (None, 4096)         41947136    ['concatenate_3[0][0]']          \n",
      "                                                                                                  \n",
      " dropout_6 (Dropout)            (None, 4096)         0           ['dense_6[0][0]']                \n",
      "                                                                                                  \n",
      " dense_7 (Dense)                (None, 4096)         16781312    ['dropout_6[0][0]']              \n",
      "                                                                                                  \n",
      " dropout_7 (Dropout)            (None, 4096)         0           ['dense_7[0][0]']                \n",
      "                                                                                                  \n",
      " material_output (Dense)        (None, 4)            16388       ['dropout_7[0][0]']              \n",
      "                                                                                                  \n",
      "==================================================================================================\n",
      "Total params: 60,296,324\n",
      "Trainable params: 60,296,324\n",
      "Non-trainable params: 0\n",
      "__________________________________________________________________________________________________\n",
      "Epoch 1/30\n"
     ]
    },
    {
     "name": "stderr",
     "output_type": "stream",
     "text": [
      "2022-05-11 23:23:22.081415: I tensorflow/core/grappler/optimizers/custom_graph_optimizer_registry.cc:112] Plugin optimizer for device_type GPU is enabled.\n"
     ]
    },
    {
     "name": "stdout",
     "output_type": "stream",
     "text": [
      "15/15 [==============================] - ETA: 0s - loss: 1.4085 - accuracy: 0.2717"
     ]
    },
    {
     "name": "stderr",
     "output_type": "stream",
     "text": [
      "2022-05-11 23:23:23.209212: I tensorflow/core/grappler/optimizers/custom_graph_optimizer_registry.cc:112] Plugin optimizer for device_type GPU is enabled.\n"
     ]
    },
    {
     "name": "stdout",
     "output_type": "stream",
     "text": [
      "INFO:tensorflow:Assets written to: ./model/branch_model_norm/assets\n",
      "15/15 [==============================] - 11s 706ms/step - loss: 1.4085 - accuracy: 0.2717 - val_loss: 1.3691 - val_accuracy: 0.2143\n",
      "Epoch 2/30\n",
      "15/15 [==============================] - ETA: 0s - loss: 1.3409 - accuracy: 0.3391INFO:tensorflow:Assets written to: ./model/branch_model_norm/assets\n",
      "15/15 [==============================] - 10s 671ms/step - loss: 1.3409 - accuracy: 0.3391 - val_loss: 1.3407 - val_accuracy: 0.6357\n",
      "Epoch 3/30\n",
      "15/15 [==============================] - 6s 404ms/step - loss: 1.4001 - accuracy: 0.2870 - val_loss: 1.3496 - val_accuracy: 0.5786\n",
      "Epoch 4/30\n",
      "15/15 [==============================] - 6s 414ms/step - loss: 1.3148 - accuracy: 0.3565 - val_loss: 1.2426 - val_accuracy: 0.4786\n",
      "Epoch 5/30\n",
      "15/15 [==============================] - 6s 388ms/step - loss: 1.1734 - accuracy: 0.4652 - val_loss: 1.2262 - val_accuracy: 0.5143\n",
      "Epoch 6/30\n",
      "15/15 [==============================] - ETA: 0s - loss: 1.1674 - accuracy: 0.4587INFO:tensorflow:Assets written to: ./model/branch_model_norm/assets\n",
      "15/15 [==============================] - 10s 667ms/step - loss: 1.1674 - accuracy: 0.4587 - val_loss: 1.1461 - val_accuracy: 0.6643\n",
      "Epoch 7/30\n",
      "15/15 [==============================] - 6s 431ms/step - loss: 1.1095 - accuracy: 0.5174 - val_loss: 1.2090 - val_accuracy: 0.5429\n",
      "Epoch 8/30\n",
      "15/15 [==============================] - ETA: 0s - loss: 1.0750 - accuracy: 0.5478INFO:tensorflow:Assets written to: ./model/branch_model_norm/assets\n",
      "15/15 [==============================] - 9s 654ms/step - loss: 1.0750 - accuracy: 0.5478 - val_loss: 1.1553 - val_accuracy: 0.7143\n",
      "Epoch 9/30\n",
      "15/15 [==============================] - ETA: 0s - loss: 1.0699 - accuracy: 0.5783INFO:tensorflow:Assets written to: ./model/branch_model_norm/assets\n",
      "15/15 [==============================] - 10s 693ms/step - loss: 1.0699 - accuracy: 0.5783 - val_loss: 1.1232 - val_accuracy: 0.7500\n",
      "Epoch 10/30\n",
      "15/15 [==============================] - 6s 428ms/step - loss: 1.0874 - accuracy: 0.5435 - val_loss: 1.1501 - val_accuracy: 0.6643\n",
      "Epoch 11/30\n",
      "15/15 [==============================] - ETA: 0s - loss: 1.0565 - accuracy: 0.5348INFO:tensorflow:Assets written to: ./model/branch_model_norm/assets\n",
      "15/15 [==============================] - 9s 624ms/step - loss: 1.0565 - accuracy: 0.5348 - val_loss: 1.1285 - val_accuracy: 0.7714\n",
      "Epoch 12/30\n",
      "15/15 [==============================] - 7s 451ms/step - loss: 1.0111 - accuracy: 0.5891 - val_loss: 1.1889 - val_accuracy: 0.5571\n",
      "Epoch 13/30\n",
      "15/15 [==============================] - 6s 427ms/step - loss: 0.9783 - accuracy: 0.6109 - val_loss: 1.1190 - val_accuracy: 0.7429\n",
      "Epoch 14/30\n",
      "15/15 [==============================] - 7s 457ms/step - loss: 0.8961 - accuracy: 0.6239 - val_loss: 1.0907 - val_accuracy: 0.7143\n",
      "Epoch 15/30\n",
      "15/15 [==============================] - 7s 449ms/step - loss: 0.9452 - accuracy: 0.6348 - val_loss: 1.0856 - val_accuracy: 0.7214\n",
      "Epoch 16/30\n",
      "15/15 [==============================] - ETA: 0s - loss: 0.9385 - accuracy: 0.6326INFO:tensorflow:Assets written to: ./model/branch_model_norm/assets\n",
      "15/15 [==============================] - 9s 611ms/step - loss: 0.9385 - accuracy: 0.6326 - val_loss: 1.0779 - val_accuracy: 0.8000\n",
      "Epoch 17/30\n",
      "15/15 [==============================] - 6s 434ms/step - loss: 0.9038 - accuracy: 0.6565 - val_loss: 1.1114 - val_accuracy: 0.6857\n",
      "Epoch 18/30\n",
      "15/15 [==============================] - 7s 506ms/step - loss: 0.8897 - accuracy: 0.6348 - val_loss: 1.1210 - val_accuracy: 0.6500\n",
      "Epoch 19/30\n",
      "15/15 [==============================] - 8s 521ms/step - loss: 0.8959 - accuracy: 0.6370 - val_loss: 1.0843 - val_accuracy: 0.7643\n",
      "Epoch 20/30\n",
      "15/15 [==============================] - 7s 497ms/step - loss: 0.8440 - accuracy: 0.6196 - val_loss: 1.0886 - val_accuracy: 0.7500\n",
      "Epoch 21/30\n",
      "15/15 [==============================] - 6s 396ms/step - loss: 0.8696 - accuracy: 0.6217 - val_loss: 1.0994 - val_accuracy: 0.6500\n",
      "Epoch 22/30\n",
      "15/15 [==============================] - 6s 414ms/step - loss: 0.8930 - accuracy: 0.6304 - val_loss: 1.0502 - val_accuracy: 0.7643\n",
      "Epoch 23/30\n",
      "15/15 [==============================] - 6s 427ms/step - loss: 0.8244 - accuracy: 0.6522 - val_loss: 1.0291 - val_accuracy: 0.7500\n",
      "Epoch 24/30\n",
      "15/15 [==============================] - 7s 461ms/step - loss: 0.8518 - accuracy: 0.6500 - val_loss: 1.0397 - val_accuracy: 0.7714\n",
      "Epoch 25/30\n",
      "15/15 [==============================] - ETA: 0s - loss: 0.8103 - accuracy: 0.6783INFO:tensorflow:Assets written to: ./model/branch_model_norm/assets\n",
      "15/15 [==============================] - 9s 659ms/step - loss: 0.8103 - accuracy: 0.6783 - val_loss: 1.0512 - val_accuracy: 0.8071\n",
      "Epoch 26/30\n",
      "15/15 [==============================] - 6s 435ms/step - loss: 0.8216 - accuracy: 0.6674 - val_loss: 0.9941 - val_accuracy: 0.7429\n",
      "Epoch 27/30\n",
      "15/15 [==============================] - 6s 443ms/step - loss: 0.8931 - accuracy: 0.6348 - val_loss: 1.0542 - val_accuracy: 0.7857\n",
      "Epoch 28/30\n",
      "15/15 [==============================] - 7s 466ms/step - loss: 0.8768 - accuracy: 0.6261 - val_loss: 1.0780 - val_accuracy: 0.7714\n",
      "Epoch 29/30\n",
      "15/15 [==============================] - 7s 457ms/step - loss: 0.8206 - accuracy: 0.6717 - val_loss: 1.0185 - val_accuracy: 0.8000\n",
      "Epoch 30/30\n",
      "15/15 [==============================] - 6s 442ms/step - loss: 0.8427 - accuracy: 0.6826 - val_loss: 1.0352 - val_accuracy: 0.7857\n"
     ]
    }
   ],
   "source": [
    "VGG_branch_hist_norm = VGG_branch(Split_X_n, Y, test_X = test_Split_X_n, test_Y = test_Y, EPOCH=30, cp_filepath='branch_model_norm')"
   ]
  },
  {
   "cell_type": "code",
   "execution_count": 38,
   "metadata": {},
   "outputs": [
    {
     "name": "stdout",
     "output_type": "stream",
     "text": [
      "0.8071428537368774\n"
     ]
    }
   ],
   "source": [
    "print(max(VGG_branch_hist_norm.history['val_accuracy']))"
   ]
  },
  {
   "cell_type": "code",
   "execution_count": 30,
   "metadata": {},
   "outputs": [
    {
     "name": "stderr",
     "output_type": "stream",
     "text": [
      "2022-05-11 23:16:02.536817: I tensorflow/core/grappler/optimizers/custom_graph_optimizer_registry.cc:112] Plugin optimizer for device_type GPU is enabled.\n"
     ]
    },
    {
     "name": "stdout",
     "output_type": "stream",
     "text": [
      "4/5 [=======================>......] - ETA: 0s - loss: 1.1274 - accuracy: 0.7812"
     ]
    },
    {
     "name": "stderr",
     "output_type": "stream",
     "text": [
      "2022-05-11 23:16:02.798939: I tensorflow/core/grappler/optimizers/custom_graph_optimizer_registry.cc:112] Plugin optimizer for device_type GPU is enabled.\n"
     ]
    },
    {
     "name": "stdout",
     "output_type": "stream",
     "text": [
      "5/5 [==============================] - 0s 33ms/step - loss: 1.1258 - accuracy: 0.7857\n",
      "[1.1258056163787842, 0.7857142686843872]\n",
      "[[21  1  7  1]\n",
      " [ 0 10  0  0]\n",
      " [ 0  0 26  4]\n",
      " [ 0 12  5 53]]\n"
     ]
    },
    {
     "data": {
      "image/png": "[encoded data removed]",
      "text/plain": [
       "<Figure size 720x720 with 2 Axes>"
      ]
     },
     "metadata": {
      "needs_background": "light"
     },
     "output_type": "display_data"
    }
   ],
   "source": [
    "VGG_branch_model = tf.keras.models.load_model('./model/branch_model')\n",
    "VGG_branch_pred = VGG_branch_model.predict({\"amplitude\": test_Split_X_n[:,0,:], \"phase\": test_Split_X_n[:,1,:]})\n",
    "VGG_branch_evl = VGG_branch_model.evaluate({\"amplitude\": test_Split_X_n[:,0,:], \"phase\": test_Split_X_n[:,1,:]}, {\"material_output\" : test_Y})\n",
    "print(VGG_branch_evl)\n",
    "test_Y_class = np.argmax(test_Y, axis = -1)\n",
    "VGG_branch_cm = confusion_matrix(test_Y_class, np.argmax(VGG_branch_pred, axis = -1))\n",
    "\n",
    "print(VGG_branch_cm)\n",
    "heatmap(VGG_branch_cm, 'VGG_branch_cm')"
   ]
  },
  {
   "cell_type": "code",
   "execution_count": 39,
   "metadata": {},
   "outputs": [
    {
     "name": "stderr",
     "output_type": "stream",
     "text": [
      "2022-05-11 23:48:27.838551: I tensorflow/core/grappler/optimizers/custom_graph_optimizer_registry.cc:112] Plugin optimizer for device_type GPU is enabled.\n"
     ]
    },
    {
     "name": "stdout",
     "output_type": "stream",
     "text": [
      "1/5 [=====>........................] - ETA: 0s - loss: 1.0511 - accuracy: 0.8125"
     ]
    },
    {
     "name": "stderr",
     "output_type": "stream",
     "text": [
      "2022-05-11 23:48:28.167310: I tensorflow/core/grappler/optimizers/custom_graph_optimizer_registry.cc:112] Plugin optimizer for device_type GPU is enabled.\n"
     ]
    },
    {
     "name": "stdout",
     "output_type": "stream",
     "text": [
      "5/5 [==============================] - 0s 38ms/step - loss: 1.0512 - accuracy: 0.8071\n",
      "[1.0511720180511475, 0.8071428537368774]\n",
      "[[19  0  9  2]\n",
      " [ 0  0  0 10]\n",
      " [ 0  0 28  2]\n",
      " [ 0  1  3 66]]\n"
     ]
    },
    {
     "data": {
      "image/png": "[encoded data removed]",
      "text/plain": [
       "<Figure size 720x720 with 2 Axes>"
      ]
     },
     "metadata": {
      "needs_background": "light"
     },
     "output_type": "display_data"
    }
   ],
   "source": [
    "VGG_branch_model_norm = tf.keras.models.load_model('./model/branch_model_norm')\n",
    "VGG_branch_norm_pred = VGG_branch_model_norm.predict({\"amplitude\": test_Split_X_n[:,0,:], \"phase\": test_Split_X_n[:,1,:]})\n",
    "VGG_branch_norm_evl = VGG_branch_model_norm.evaluate({\"amplitude\": test_Split_X_n[:,0,:], \"phase\": test_Split_X_n[:,1,:]}, {\"material_output\" : test_Y})\n",
    "print(VGG_branch_norm_evl)\n",
    "test_Y_class = np.argmax(test_Y, axis = -1)\n",
    "VGG_branch_norm_cm = confusion_matrix(test_Y_class, np.argmax(VGG_branch_norm_pred, axis = -1))\n",
    "\n",
    "print(VGG_branch_norm_cm)\n",
    "heatmap(VGG_branch_norm_cm, 'VGG_branch_cm')"
   ]
  },
  {
   "cell_type": "code",
   "execution_count": 72,
   "metadata": {},
   "outputs": [],
   "source": [
    "def classifier_data(x):\n",
    "    abs_x = np.abs(x)\n",
    "    return np.concatenate((abs_x, np.expand_dims(np.max(abs_x, axis = 1), axis = 1), np.expand_dims(np.min(abs_x, axis = 1), axis = 1), np.expand_dims(np.mean(abs_x, axis = 1), axis = 1)), axis = 1)"
   ]
  },
  {
   "cell_type": "code",
   "execution_count": 76,
   "metadata": {},
   "outputs": [],
   "source": [
    "X_c = classifier_data(X)\n",
    "test_X_c = classifier_data(test_X)\n",
    "Y_c = np.argmax(Y, axis = 1)\n",
    "test_Y_c = np.argmax(test_Y, axis = 1)"
   ]
  },
  {
   "cell_type": "code",
   "execution_count": 77,
   "metadata": {},
   "outputs": [
    {
     "name": "stdout",
     "output_type": "stream",
     "text": [
      "(460, 170)\n"
     ]
    }
   ],
   "source": [
    "print(X_c.shape)"
   ]
  },
  {
   "cell_type": "code",
   "execution_count": 78,
   "metadata": {},
   "outputs": [],
   "source": [
    "from sklearn.ensemble import RandomForestClassifier"
   ]
  },
  {
   "cell_type": "code",
   "execution_count": 79,
   "metadata": {},
   "outputs": [
    {
     "data": {
      "text/plain": [
       "RandomForestClassifier(n_estimators=10, random_state=0)"
      ]
     },
     "execution_count": 79,
     "metadata": {},
     "output_type": "execute_result"
    }
   ],
   "source": [
    "model = RandomForestClassifier(n_estimators=10, random_state=0)\n",
    "model.fit(X_c, Y_c)"
   ]
  },
  {
   "cell_type": "code",
   "execution_count": 81,
   "metadata": {},
   "outputs": [
    {
     "data": {
      "text/plain": [
       "0.42857142857142855"
      ]
     },
     "execution_count": 81,
     "metadata": {},
     "output_type": "execute_result"
    }
   ],
   "source": [
    "model.score(test_X_c, test_Y_c)"
   ]
  },
  {
   "cell_type": "code",
   "execution_count": 83,
   "metadata": {},
   "outputs": [],
   "source": [
    "rf_cm = confusion_matrix(test_Y_c, model.predict(test_X_c))"
   ]
  },
  {
   "cell_type": "code",
   "execution_count": 84,
   "metadata": {},
   "outputs": [
    {
     "data": {
      "text/plain": [
       "array([[18,  0,  9,  3],\n",
       "       [ 0,  0,  0, 10],\n",
       "       [ 3,  0, 17, 10],\n",
       "       [ 1, 21, 23, 25]])"
      ]
     },
     "execution_count": 84,
     "metadata": {},
     "output_type": "execute_result"
    }
   ],
   "source": [
    "rf_cm"
   ]
  },
  {
   "cell_type": "code",
   "execution_count": 85,
   "metadata": {},
   "outputs": [
    {
     "data": {
      "image/png": "[encoded data removed]",
      "text/plain": [
       "<Figure size 720x720 with 2 Axes>"
      ]
     },
     "metadata": {
      "needs_background": "light"
     },
     "output_type": "display_data"
    }
   ],
   "source": [
    "heatmap(rf_cm, 'random forest cm')"
   ]
  },
  {
   "cell_type": "code",
   "execution_count": null,
   "metadata": {},
   "outputs": [],
   "source": []
  }
 ],
 "metadata": {
  "interpreter": {
   "hash": "77685dea35024d00c47c2bd6674a5d99e524bb0acc43ac0da346cfc9a7e35ee9"
  },
  "kernelspec": {
   "display_name": "Python 3.9.10 ('radar')",
   "language": "python",
   "name": "python3"
  },
  "language_info": {
   "codemirror_mode": {
    "name": "ipython",
    "version": 3
   },
   "file_extension": ".py",
   "mimetype": "text/x-python",
   "name": "python",
   "nbconvert_exporter": "python",
   "pygments_lexer": "ipython3",
   "version": "3.9.10"
  },
  "orig_nbformat": 4
 },
 "nbformat": 4,
 "nbformat_minor": 2
}
