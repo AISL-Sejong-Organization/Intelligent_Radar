{
 "cells": [
  {
   "cell_type": "code",
   "execution_count": 1,
   "metadata": {},
   "outputs": [
    {
     "name": "stderr",
     "output_type": "stream",
     "text": [
      "2022-08-26 01:21:31.985109: I tensorflow/core/util/util.cc:169] oneDNN custom operations are on. You may see slightly different numerical results due to floating-point round-off errors from different computation orders. To turn them off, set the environment variable `TF_ENABLE_ONEDNN_OPTS=0`.\n"
     ]
    }
   ],
   "source": [
    "import numpy as np\n",
    "import tensorflow as tf\n",
    "import os\n",
    "import copy\n",
    "from math import pi\n",
    "from sklearn.metrics import accuracy_score, confusion_matrix\n",
    "from sklearn.model_selection import train_test_split\n",
    "from sklearn.preprocessing import MinMaxScaler\n",
    "import seaborn as sns\n",
    "from pandas import DataFrame as DF\n",
    "from models import AP_ResNet, ResNet, VGG_branch, ResNetLSTM, ConvLSTM, ConvLSTM_dropout\n",
    "from tensorflow.keras.applications.vgg16 import VGG16\n",
    "\n",
    "from tensorflow import keras\n",
    "from tensorflow.keras import layers\n",
    "from tensorflow.keras import layers, models\n",
    "import matplotlib.pyplot as plt\n",
    "from classifier import preprocessing as prep\n",
    "import os\n",
    "import gc\n",
    "os.environ[\"CUDA_VISIBLE_DEVICES\"] = \"3\""
   ]
  },
  {
   "cell_type": "code",
   "execution_count": 2,
   "metadata": {},
   "outputs": [],
   "source": [
    "class_names = ['asphalt','bicycle','block','floor','ground']\n",
    "bound = 414"
   ]
  },
  {
   "cell_type": "code",
   "execution_count": 3,
   "metadata": {},
   "outputs": [],
   "source": [
    "label2idx_Dict = {\n",
    "                'asphalt' : 0,\n",
    "                'bicycle' : 1,\n",
    "                'block' : 2,\n",
    "                'floor' : 3,\n",
    "                'ground' : 4,\n",
    "            }\n",
    "\n",
    "idx2label_Dict = {\n",
    "    0 : 'asphalt',\n",
    "    1 : 'bicycle',\n",
    "    2 : 'block',\n",
    "    3 : 'floor',\n",
    "    4 : 'ground',\n",
    "}"
   ]
  },
  {
   "cell_type": "code",
   "execution_count": 4,
   "metadata": {},
   "outputs": [],
   "source": [
    "dir_path = './road_data'\n",
    "def readNpy(dir_path):\n",
    "    class_num = len(idx2label_Dict)\n",
    "\n",
    "    Asphalt = list()\n",
    "    Bicycle = list()\n",
    "    Block = list()\n",
    "    Floor = list()\n",
    "    Ground = list()\n",
    "    Asphalt = np.array(Asphalt)\n",
    "    Bicycle = np.array(Bicycle)\n",
    "    Block = np.array(Block)\n",
    "    Floor = np.array(Floor)\n",
    "    Ground = np.array(Ground)\n",
    "    \n",
    "\n",
    "    for dir in os.listdir(dir_path):\n",
    "        d_path = os.path.join(dir_path, dir)\n",
    "        file_list = os.listdir(d_path)\n",
    "        for file in file_list:\n",
    "            file_path = os.path.join(d_path, file)\n",
    "            if dir == idx2label_Dict[0] :\n",
    "                if len(Asphalt) == 0:\n",
    "                    Asphalt = np.load(file_path, allow_pickle=True)\n",
    "                else :\n",
    "                    Asphalt = np.append(Asphalt, np.load(file_path), axis = 0)\n",
    "            elif dir == idx2label_Dict[1]:\n",
    "                if len(Bicycle) == 0:\n",
    "                    Bicycle = np.load(file_path, allow_pickle=True)\n",
    "                else :\n",
    "                    Bicycle = np.append(Bicycle, np.load(file_path), axis = 0)\n",
    "            elif dir == idx2label_Dict[2]:\n",
    "                if len(Block) == 0:\n",
    "                    Block = np.load(file_path, allow_pickle=True)\n",
    "                else:\n",
    "                    Block = np.append(Block, np.load(file_path), axis = 0)\n",
    "            elif dir == idx2label_Dict[3]:\n",
    "                if len(Floor) == 0:\n",
    "                    Floor = np.load(file_path, allow_pickle=True)\n",
    "                else:\n",
    "                    Floor = np.append(Floor, np.load(file_path), axis = 0)\n",
    "            elif dir == idx2label_Dict[4]:\n",
    "                if len(Ground) == 0:\n",
    "                    Ground = np.load(file_path, allow_pickle=True)\n",
    "                else:\n",
    "                    Ground = np.append(Ground, np.load(file_path), axis = 0)\n",
    "\n",
    "    bound = Asphalt.shape[1]\n",
    "\n",
    "    Ground_label = np.full((Ground.shape[0], class_num), np.eye(len(label2idx_Dict))[label2idx_Dict['ground']])\n",
    "    Asphalt_label = np.full((Asphalt.shape[0],class_num), np.eye(len(label2idx_Dict))[label2idx_Dict['asphalt']])\n",
    "    Bicycle_label = np.full((Bicycle.shape[0],class_num), np.eye(len(label2idx_Dict))[label2idx_Dict['bicycle']])\n",
    "    Block_label = np.full((Block.shape[0],class_num), np.eye(len(label2idx_Dict))[label2idx_Dict['block']])\n",
    "    Floor_label = np.full((Floor.shape[0],class_num), np.eye(len(label2idx_Dict))[label2idx_Dict['floor']])\n",
    "\n",
    "    Ground = np.concatenate((Ground, Ground_label), axis=1)\n",
    "    Asphalt = np.concatenate((Asphalt, Asphalt_label), axis=1)\n",
    "    Bicycle = np.concatenate((Bicycle, Bicycle_label), axis=1)\n",
    "    Block = np.concatenate((Block, Block_label), axis=1)\n",
    "    Floor = np.concatenate((Floor, Floor_label), axis=1)\n",
    "    \n",
    "    array = Asphalt\n",
    "    array = np.append(array, Bicycle, axis = 0)\n",
    "    array = np.append(array, Block, axis = 0)\n",
    "    array = np.append(array, Floor, axis = 0)\n",
    "    array = np.append(array, Ground, axis = 0)\n",
    "    s = np.arange(array.shape[0])\n",
    "    np.random.shuffle(s)\n",
    "    array_s = array[s]\n",
    "\n",
    "    X = array_s[:,:bound]\n",
    "    Y = np.real(array_s[:,bound:])\n",
    "    return copy.deepcopy(X), copy.deepcopy(Y)\n",
    "\n",
    "X, y = readNpy(dir_path)"
   ]
  },
  {
   "cell_type": "code",
   "execution_count": 5,
   "metadata": {},
   "outputs": [],
   "source": [
    "def seperater(arr):\n",
    "    global maximum\n",
    "    pre_data = arr\n",
    "    amp = np.abs(pre_data)\n",
    "    amp = amp / maximum\n",
    "    phs = np.angle(pre_data)\n",
    "    # phs = (phs - (- pi)) / (pi - (- pi))\n",
    "    sin = np.sin(phs)\n",
    "    sin = (sin + 1) / 2\n",
    "    seperated_data = np.stack((amp.T,sin.T), axis=0)\n",
    "    seperated_data = np.expand_dims(seperated_data, axis=0)\n",
    "    return np.array(seperated_data)"
   ]
  },
  {
   "cell_type": "code",
   "execution_count": 6,
   "metadata": {},
   "outputs": [],
   "source": [
    "def dataSeperator(arr):\n",
    "    temp = copy.deepcopy(seperater(arr[0]))\n",
    "    for i in range(1, len(arr)):\n",
    "        temp = np.concatenate((temp, seperater(arr[i])), axis=0)\n",
    "    return temp"
   ]
  },
  {
   "cell_type": "code",
   "execution_count": 7,
   "metadata": {},
   "outputs": [],
   "source": [
    "maximum = np.max(np.abs(X))\n",
    "Split_X = dataSeperator(X)"
   ]
  },
  {
   "cell_type": "code",
   "execution_count": 8,
   "metadata": {},
   "outputs": [],
   "source": [
    "checkpoint_filepath = 'CNN'\n",
    "callback = tf.keras.callbacks.ModelCheckpoint(\n",
    "    filepath = './model/' + checkpoint_filepath,\n",
    "    monitor='val_accuracy',\n",
    "    mode='max',\n",
    "    save_best_only = True,\n",
    "    save_weigths_only = False,\n",
    ")\n",
    "log_dir = './logs/fit/'\n",
    "tensorboard_callback = tf.keras.callbacks.TensorBoard(log_dir = log_dir, histogram_freq = 1)"
   ]
  },
  {
   "cell_type": "code",
   "execution_count": 9,
   "metadata": {},
   "outputs": [],
   "source": [
    "def create_sequences(data, seq_length):\n",
    "    xs = []\n",
    "    ys = []\n",
    "    for i in range(len(data[0])-seq_length-1):\n",
    "        x = data[0][:][i:(i+seq_length)]\n",
    "        y = data[1][i+seq_length]\n",
    "        xs.append(x)\n",
    "        ys.append(y)\n",
    "    return np.array(xs), np.array(ys)"
   ]
  },
  {
   "cell_type": "code",
   "execution_count": 10,
   "metadata": {},
   "outputs": [],
   "source": [
    "seq_length = 50\n",
    "X, Y = create_sequences((Split_X, y), seq_length = seq_length)"
   ]
  },
  {
   "cell_type": "code",
   "execution_count": 11,
   "metadata": {},
   "outputs": [
    {
     "name": "stdout",
     "output_type": "stream",
     "text": [
      "(2349, 50, 2, 414) (2349, 5)\n"
     ]
    }
   ],
   "source": [
    "print(X.shape, Y.shape)"
   ]
  },
  {
   "cell_type": "code",
   "execution_count": 12,
   "metadata": {},
   "outputs": [],
   "source": [
    "def train(\n",
    "    model, X, Y,\n",
    "    test_X, test_Y, \n",
    "    batch_size = 64, history_dict = None,\n",
    "    Epoch = 50,\n",
    "    learning_rate = 1e-3\n",
    "    ):\n",
    "    callback = tf.keras.callbacks.ModelCheckpoint(\n",
    "        filepath = './model/' + 'Resnet_LSTM',\n",
    "        monitor='val_accuracy',\n",
    "        mode='max',\n",
    "        save_best_only = True,\n",
    "        save_weigths_only = False,\n",
    "    )\n",
    "    optimizer = tf.keras.optimizers.Adam(learning_rate = learning_rate)\n",
    "    loss = tf.keras.losses.CategoricalCrossentropy()\n",
    "    model.compile(optimizer = optimizer , loss = loss, \n",
    "                metrics = ['accuracy', 'categorical_crossentropy'])\n",
    "    history = model.fit(X, Y,  batch_size = batch_size, epochs = Epoch,\n",
    "                callbacks = callback, \n",
    "                validation_data = (test_X, test_Y),\n",
    "                # validation_split = 0.3\n",
    "                )\n",
    "    return history"
   ]
  },
  {
   "cell_type": "code",
   "execution_count": 13,
   "metadata": {},
   "outputs": [],
   "source": [
    "X = X[:, :, 0, :]"
   ]
  },
  {
   "cell_type": "code",
   "execution_count": 14,
   "metadata": {},
   "outputs": [],
   "source": [
    "x_train, x_test, Y_train, Y_test = train_test_split(X, Y, test_size = 0.3)"
   ]
  },
  {
   "cell_type": "code",
   "execution_count": 15,
   "metadata": {},
   "outputs": [],
   "source": [
    "X_train = np.expand_dims(x_train, axis = -1)\n",
    "X_test = np.expand_dims(x_test, axis = -1)"
   ]
  },
  {
   "cell_type": "code",
   "execution_count": 16,
   "metadata": {},
   "outputs": [
    {
     "ename": "ValueError",
     "evalue": "If using `weights` as `\"imagenet\"` with `include_top` as true, `classes` should be 1000.  Received `classes=5`",
     "output_type": "error",
     "traceback": [
      "\u001b[0;31m---------------------------------------------------------------------------\u001b[0m",
      "\u001b[0;31mValueError\u001b[0m                                Traceback (most recent call last)",
      "\u001b[1;32m/data_disk/home/joongho/Intelligent_Radar/gui/service_modules/training_road_cnn.ipynb 셀 16\u001b[0m in \u001b[0;36m<cell line: 1>\u001b[0;34m()\u001b[0m\n\u001b[0;32m----> <a href='vscode-notebook-cell://ssh-remote%2Baisl_gpu_server/data_disk/home/joongho/Intelligent_Radar/gui/service_modules/training_road_cnn.ipynb#X36sdnNjb2RlLXJlbW90ZQ%3D%3D?line=0'>1</a>\u001b[0m model_vgg \u001b[39m=\u001b[39m VGG16(\n\u001b[1;32m      <a href='vscode-notebook-cell://ssh-remote%2Baisl_gpu_server/data_disk/home/joongho/Intelligent_Radar/gui/service_modules/training_road_cnn.ipynb#X36sdnNjb2RlLXJlbW90ZQ%3D%3D?line=1'>2</a>\u001b[0m     include_top \u001b[39m=\u001b[39;49m \u001b[39mTrue\u001b[39;49;00m,\n\u001b[1;32m      <a href='vscode-notebook-cell://ssh-remote%2Baisl_gpu_server/data_disk/home/joongho/Intelligent_Radar/gui/service_modules/training_road_cnn.ipynb#X36sdnNjb2RlLXJlbW90ZQ%3D%3D?line=2'>3</a>\u001b[0m     weights \u001b[39m=\u001b[39;49m \u001b[39m'\u001b[39;49m\u001b[39mimagenet\u001b[39;49m\u001b[39m'\u001b[39;49m,\n\u001b[1;32m      <a href='vscode-notebook-cell://ssh-remote%2Baisl_gpu_server/data_disk/home/joongho/Intelligent_Radar/gui/service_modules/training_road_cnn.ipynb#X36sdnNjb2RlLXJlbW90ZQ%3D%3D?line=3'>4</a>\u001b[0m     classes \u001b[39m=\u001b[39;49m \u001b[39m5\u001b[39;49m,\n\u001b[1;32m      <a href='vscode-notebook-cell://ssh-remote%2Baisl_gpu_server/data_disk/home/joongho/Intelligent_Radar/gui/service_modules/training_road_cnn.ipynb#X36sdnNjb2RlLXJlbW90ZQ%3D%3D?line=4'>5</a>\u001b[0m     classifier_activation \u001b[39m=\u001b[39;49m \u001b[39m'\u001b[39;49m\u001b[39msoftmax\u001b[39;49m\u001b[39m'\u001b[39;49m,\n\u001b[1;32m      <a href='vscode-notebook-cell://ssh-remote%2Baisl_gpu_server/data_disk/home/joongho/Intelligent_Radar/gui/service_modules/training_road_cnn.ipynb#X36sdnNjb2RlLXJlbW90ZQ%3D%3D?line=5'>6</a>\u001b[0m     input_shape \u001b[39m=\u001b[39;49m (X_train\u001b[39m.\u001b[39;49mshape[\u001b[39m1\u001b[39;49m], X_train\u001b[39m.\u001b[39;49mshape[\u001b[39m2\u001b[39;49m], X_train\u001b[39m.\u001b[39;49mshape[\u001b[39m3\u001b[39;49m])\n\u001b[1;32m      <a href='vscode-notebook-cell://ssh-remote%2Baisl_gpu_server/data_disk/home/joongho/Intelligent_Radar/gui/service_modules/training_road_cnn.ipynb#X36sdnNjb2RlLXJlbW90ZQ%3D%3D?line=6'>7</a>\u001b[0m )\n",
      "File \u001b[0;32m~/.conda/envs/radar/lib/python3.8/site-packages/keras/applications/vgg16.py:124\u001b[0m, in \u001b[0;36mVGG16\u001b[0;34m(include_top, weights, input_tensor, input_shape, pooling, classes, classifier_activation)\u001b[0m\n\u001b[1;32m    116\u001b[0m   \u001b[39mraise\u001b[39;00m \u001b[39mValueError\u001b[39;00m(\n\u001b[1;32m    117\u001b[0m       \u001b[39m'\u001b[39m\u001b[39mThe `weights` argument should be either \u001b[39m\u001b[39m'\u001b[39m\n\u001b[1;32m    118\u001b[0m       \u001b[39m'\u001b[39m\u001b[39m`None` (random initialization), `imagenet` \u001b[39m\u001b[39m'\u001b[39m\n\u001b[1;32m    119\u001b[0m       \u001b[39m'\u001b[39m\u001b[39m(pre-training on ImageNet), \u001b[39m\u001b[39m'\u001b[39m\n\u001b[1;32m    120\u001b[0m       \u001b[39m'\u001b[39m\u001b[39mor the path to the weights file to be loaded.  Received: \u001b[39m\u001b[39m'\u001b[39m\n\u001b[1;32m    121\u001b[0m       \u001b[39mf\u001b[39m\u001b[39m'\u001b[39m\u001b[39mweights=\u001b[39m\u001b[39m{\u001b[39;00mweights\u001b[39m}\u001b[39;00m\u001b[39m'\u001b[39m)\n\u001b[1;32m    123\u001b[0m \u001b[39mif\u001b[39;00m weights \u001b[39m==\u001b[39m \u001b[39m'\u001b[39m\u001b[39mimagenet\u001b[39m\u001b[39m'\u001b[39m \u001b[39mand\u001b[39;00m include_top \u001b[39mand\u001b[39;00m classes \u001b[39m!=\u001b[39m \u001b[39m1000\u001b[39m:\n\u001b[0;32m--> 124\u001b[0m   \u001b[39mraise\u001b[39;00m \u001b[39mValueError\u001b[39;00m(\u001b[39m'\u001b[39m\u001b[39mIf using `weights` as `\u001b[39m\u001b[39m\"\u001b[39m\u001b[39mimagenet\u001b[39m\u001b[39m\"\u001b[39m\u001b[39m` with `include_top` \u001b[39m\u001b[39m'\u001b[39m\n\u001b[1;32m    125\u001b[0m                    \u001b[39m'\u001b[39m\u001b[39mas true, `classes` should be 1000.  \u001b[39m\u001b[39m'\u001b[39m\n\u001b[1;32m    126\u001b[0m                    \u001b[39mf\u001b[39m\u001b[39m'\u001b[39m\u001b[39mReceived `classes=\u001b[39m\u001b[39m{\u001b[39;00mclasses\u001b[39m}\u001b[39;00m\u001b[39m`\u001b[39m\u001b[39m'\u001b[39m)\n\u001b[1;32m    127\u001b[0m \u001b[39m# Determine proper input shape\u001b[39;00m\n\u001b[1;32m    128\u001b[0m input_shape \u001b[39m=\u001b[39m imagenet_utils\u001b[39m.\u001b[39mobtain_input_shape(\n\u001b[1;32m    129\u001b[0m     input_shape,\n\u001b[1;32m    130\u001b[0m     default_size\u001b[39m=\u001b[39m\u001b[39m224\u001b[39m,\n\u001b[0;32m   (...)\u001b[0m\n\u001b[1;32m    133\u001b[0m     require_flatten\u001b[39m=\u001b[39minclude_top,\n\u001b[1;32m    134\u001b[0m     weights\u001b[39m=\u001b[39mweights)\n",
      "\u001b[0;31mValueError\u001b[0m: If using `weights` as `\"imagenet\"` with `include_top` as true, `classes` should be 1000.  Received `classes=5`"
     ]
    }
   ],
   "source": [
    "model_vgg = VGG16(\n",
    "    include_top = True,\n",
    "    weights = 'imagenet',\n",
    "    classes = 5,\n",
    "    classifier_activation = 'softmax',\n",
    "    input_shape = (X_train.shape[1], X_train.shape[2], X_train.shape[3])\n",
    ")"
   ]
  },
  {
   "cell_type": "code",
   "execution_count": 45,
   "metadata": {},
   "outputs": [
    {
     "ename": "NameError",
     "evalue": "name 'model_vgg' is not defined",
     "output_type": "error",
     "traceback": [
      "\u001b[0;31m---------------------------------------------------------------------------\u001b[0m",
      "\u001b[0;31mNameError\u001b[0m                                 Traceback (most recent call last)",
      "\u001b[1;32m/data_disk/home/joongho/Intelligent_Radar/gui/service_modules/training_road_cnn.ipynb 셀 17\u001b[0m in \u001b[0;36m<cell line: 1>\u001b[0;34m()\u001b[0m\n\u001b[0;32m----> <a href='vscode-notebook-cell://ssh-remote%2Baisl_gpu_server/data_disk/home/joongho/Intelligent_Radar/gui/service_modules/training_road_cnn.ipynb#X43sdnNjb2RlLXJlbW90ZQ%3D%3D?line=0'>1</a>\u001b[0m history \u001b[39m=\u001b[39m train(model_vgg, X_train, Y_train, X_test, Y_test)\n",
      "\u001b[0;31mNameError\u001b[0m: name 'model_vgg' is not defined"
     ]
    }
   ],
   "source": [
    "history = train(model_vgg, X_train, Y_train, X_test, Y_test)"
   ]
  },
  {
   "cell_type": "code",
   "execution_count": 27,
   "metadata": {},
   "outputs": [
    {
     "data": {
      "text/plain": [
       "[<matplotlib.lines.Line2D at 0x7fca6c6a6df0>]"
      ]
     },
     "execution_count": 27,
     "metadata": {},
     "output_type": "execute_result"
    },
    {
     "data": {
      "image/png": "[encoded data removed]",
      "text/plain": [
       "<Figure size 432x288 with 1 Axes>"
      ]
     },
     "metadata": {
      "needs_background": "light"
     },
     "output_type": "display_data"
    }
   ],
   "source": [
    "plt.plot(history.history['val_accuracy'])\n"
   ]
  },
  {
   "cell_type": "code",
   "execution_count": 28,
   "metadata": {},
   "outputs": [
    {
     "data": {
      "text/plain": [
       "[<matplotlib.lines.Line2D at 0x7fca6c607850>]"
      ]
     },
     "execution_count": 28,
     "metadata": {},
     "output_type": "execute_result"
    },
    {
     "data": {
      "image/png": "[encoded data removed]",
      "text/plain": [
       "<Figure size 432x288 with 1 Axes>"
      ]
     },
     "metadata": {
      "needs_background": "light"
     },
     "output_type": "display_data"
    }
   ],
   "source": [
    "plt.plot(history.history['val_loss'])"
   ]
  },
  {
   "cell_type": "code",
   "execution_count": 31,
   "metadata": {},
   "outputs": [
    {
     "data": {
      "text/plain": [
       "1770008"
      ]
     },
     "execution_count": 31,
     "metadata": {},
     "output_type": "execute_result"
    }
   ],
   "source": [
    "del model_vgg\n",
    "gc.collect()"
   ]
  },
  {
   "cell_type": "code",
   "execution_count": 34,
   "metadata": {},
   "outputs": [],
   "source": [
    "model_resnet = tf.keras.applications.ResNet152V2(\n",
    "    include_top = True,\n",
    "    weights = None,\n",
    "    classes = 5,\n",
    "    classifier_activation = 'softmax',\n",
    "    input_shape = (X_train.shape[1], X_train.shape[2], X_train.shape[3])\n",
    ")"
   ]
  },
  {
   "cell_type": "code",
   "execution_count": 35,
   "metadata": {},
   "outputs": [
    {
     "name": "stdout",
     "output_type": "stream",
     "text": [
      "Epoch 1/50\n",
      "26/26 [==============================] - ETA: 0s - loss: 1.7190 - accuracy: 0.2512 - categorical_crossentropy: 1.7190"
     ]
    },
    {
     "name": "stderr",
     "output_type": "stream",
     "text": [
      "WARNING:absl:Found untraced functions such as _jit_compiled_convolution_op, _jit_compiled_convolution_op, _jit_compiled_convolution_op, _jit_compiled_convolution_op, _jit_compiled_convolution_op while saving (showing 5 of 155). These functions will not be directly callable after loading.\n"
     ]
    },
    {
     "name": "stdout",
     "output_type": "stream",
     "text": [
      "INFO:tensorflow:Assets written to: ./model/Resnet_LSTM/assets\n"
     ]
    },
    {
     "name": "stderr",
     "output_type": "stream",
     "text": [
      "INFO:tensorflow:Assets written to: ./model/Resnet_LSTM/assets\n"
     ]
    },
    {
     "name": "stdout",
     "output_type": "stream",
     "text": [
      "26/26 [==============================] - 63s 2s/step - loss: 1.7190 - accuracy: 0.2512 - categorical_crossentropy: 1.7190 - val_loss: 1.6053 - val_accuracy: 0.2326 - val_categorical_crossentropy: 1.6053\n",
      "Epoch 2/50\n",
      "26/26 [==============================] - ETA: 0s - loss: 1.5846 - accuracy: 0.2457 - categorical_crossentropy: 1.5846"
     ]
    },
    {
     "name": "stderr",
     "output_type": "stream",
     "text": [
      "WARNING:absl:Found untraced functions such as _jit_compiled_convolution_op, _jit_compiled_convolution_op, _jit_compiled_convolution_op, _jit_compiled_convolution_op, _jit_compiled_convolution_op while saving (showing 5 of 155). These functions will not be directly callable after loading.\n"
     ]
    },
    {
     "name": "stdout",
     "output_type": "stream",
     "text": [
      "INFO:tensorflow:Assets written to: ./model/Resnet_LSTM/assets\n"
     ]
    },
    {
     "name": "stderr",
     "output_type": "stream",
     "text": [
      "INFO:tensorflow:Assets written to: ./model/Resnet_LSTM/assets\n"
     ]
    },
    {
     "name": "stdout",
     "output_type": "stream",
     "text": [
      "26/26 [==============================] - 47s 2s/step - loss: 1.5846 - accuracy: 0.2457 - categorical_crossentropy: 1.5846 - val_loss: 1.5803 - val_accuracy: 0.2411 - val_categorical_crossentropy: 1.5803\n",
      "Epoch 3/50\n",
      "26/26 [==============================] - 6s 232ms/step - loss: 1.6060 - accuracy: 0.2670 - categorical_crossentropy: 1.6060 - val_loss: 1.6238 - val_accuracy: 0.2411 - val_categorical_crossentropy: 1.6238\n",
      "Epoch 4/50\n",
      "26/26 [==============================] - 6s 228ms/step - loss: 1.5859 - accuracy: 0.2682 - categorical_crossentropy: 1.5859 - val_loss: 1.6168 - val_accuracy: 0.2411 - val_categorical_crossentropy: 1.6168\n",
      "Epoch 5/50\n",
      "26/26 [==============================] - ETA: 0s - loss: 1.5720 - accuracy: 0.2938 - categorical_crossentropy: 1.5720"
     ]
    },
    {
     "name": "stderr",
     "output_type": "stream",
     "text": [
      "WARNING:absl:Found untraced functions such as _jit_compiled_convolution_op, _jit_compiled_convolution_op, _jit_compiled_convolution_op, _jit_compiled_convolution_op, _jit_compiled_convolution_op while saving (showing 5 of 155). These functions will not be directly callable after loading.\n"
     ]
    },
    {
     "name": "stdout",
     "output_type": "stream",
     "text": [
      "INFO:tensorflow:Assets written to: ./model/Resnet_LSTM/assets\n"
     ]
    },
    {
     "name": "stderr",
     "output_type": "stream",
     "text": [
      "INFO:tensorflow:Assets written to: ./model/Resnet_LSTM/assets\n"
     ]
    },
    {
     "name": "stdout",
     "output_type": "stream",
     "text": [
      "26/26 [==============================] - 48s 2s/step - loss: 1.5720 - accuracy: 0.2938 - categorical_crossentropy: 1.5720 - val_loss: 1.6939 - val_accuracy: 0.2709 - val_categorical_crossentropy: 1.6939\n",
      "Epoch 6/50\n",
      "26/26 [==============================] - 6s 231ms/step - loss: 1.5300 - accuracy: 0.3321 - categorical_crossentropy: 1.5300 - val_loss: 1.9363 - val_accuracy: 0.2411 - val_categorical_crossentropy: 1.9363\n",
      "Epoch 7/50\n",
      "26/26 [==============================] - 6s 230ms/step - loss: 1.4621 - accuracy: 0.3954 - categorical_crossentropy: 1.4621 - val_loss: 2.0444 - val_accuracy: 0.2709 - val_categorical_crossentropy: 2.0444\n",
      "Epoch 8/50\n",
      "26/26 [==============================] - 6s 230ms/step - loss: 1.4530 - accuracy: 0.4173 - categorical_crossentropy: 1.4530 - val_loss: 1.6535 - val_accuracy: 0.2553 - val_categorical_crossentropy: 1.6535\n",
      "Epoch 9/50\n",
      "26/26 [==============================] - 6s 229ms/step - loss: 1.3860 - accuracy: 0.4550 - categorical_crossentropy: 1.3860 - val_loss: 2.5290 - val_accuracy: 0.2709 - val_categorical_crossentropy: 2.5290\n",
      "Epoch 10/50\n",
      "26/26 [==============================] - 6s 229ms/step - loss: 1.2470 - accuracy: 0.5061 - categorical_crossentropy: 1.2470 - val_loss: 1.7802 - val_accuracy: 0.2411 - val_categorical_crossentropy: 1.7802\n",
      "Epoch 11/50\n",
      "26/26 [==============================] - 6s 229ms/step - loss: 1.2493 - accuracy: 0.5128 - categorical_crossentropy: 1.2493 - val_loss: 2.3237 - val_accuracy: 0.2709 - val_categorical_crossentropy: 2.3237\n",
      "Epoch 12/50\n",
      "26/26 [==============================] - 6s 229ms/step - loss: 1.1075 - accuracy: 0.5663 - categorical_crossentropy: 1.1075 - val_loss: 2.8851 - val_accuracy: 0.2241 - val_categorical_crossentropy: 2.8851\n",
      "Epoch 13/50\n",
      "26/26 [==============================] - 6s 228ms/step - loss: 1.0017 - accuracy: 0.6259 - categorical_crossentropy: 1.0017 - val_loss: 1.9339 - val_accuracy: 0.2255 - val_categorical_crossentropy: 1.9339\n",
      "Epoch 14/50\n",
      "26/26 [==============================] - 6s 231ms/step - loss: 0.8966 - accuracy: 0.6642 - categorical_crossentropy: 0.8966 - val_loss: 3.1393 - val_accuracy: 0.1844 - val_categorical_crossentropy: 3.1393\n",
      "Epoch 15/50\n",
      "26/26 [==============================] - 6s 230ms/step - loss: 0.8300 - accuracy: 0.6825 - categorical_crossentropy: 0.8300 - val_loss: 2.2169 - val_accuracy: 0.2624 - val_categorical_crossentropy: 2.2169\n",
      "Epoch 16/50\n",
      "26/26 [==============================] - 6s 231ms/step - loss: 0.7307 - accuracy: 0.7257 - categorical_crossentropy: 0.7307 - val_loss: 1.9319 - val_accuracy: 0.2184 - val_categorical_crossentropy: 1.9319\n",
      "Epoch 17/50\n",
      "26/26 [==============================] - 6s 231ms/step - loss: 0.6598 - accuracy: 0.7470 - categorical_crossentropy: 0.6598 - val_loss: 2.4318 - val_accuracy: 0.2454 - val_categorical_crossentropy: 2.4318\n",
      "Epoch 18/50\n",
      "26/26 [==============================] - ETA: 0s - loss: 0.6052 - accuracy: 0.7725 - categorical_crossentropy: 0.6052"
     ]
    },
    {
     "name": "stderr",
     "output_type": "stream",
     "text": [
      "WARNING:absl:Found untraced functions such as _jit_compiled_convolution_op, _jit_compiled_convolution_op, _jit_compiled_convolution_op, _jit_compiled_convolution_op, _jit_compiled_convolution_op while saving (showing 5 of 155). These functions will not be directly callable after loading.\n"
     ]
    },
    {
     "name": "stdout",
     "output_type": "stream",
     "text": [
      "INFO:tensorflow:Assets written to: ./model/Resnet_LSTM/assets\n"
     ]
    },
    {
     "name": "stderr",
     "output_type": "stream",
     "text": [
      "INFO:tensorflow:Assets written to: ./model/Resnet_LSTM/assets\n"
     ]
    },
    {
     "name": "stdout",
     "output_type": "stream",
     "text": [
      "26/26 [==============================] - 49s 2s/step - loss: 0.6052 - accuracy: 0.7725 - categorical_crossentropy: 0.6052 - val_loss: 5.1998 - val_accuracy: 0.2752 - val_categorical_crossentropy: 5.1998\n",
      "Epoch 19/50\n",
      "26/26 [==============================] - 6s 230ms/step - loss: 0.5308 - accuracy: 0.7987 - categorical_crossentropy: 0.5308 - val_loss: 6.6638 - val_accuracy: 0.2681 - val_categorical_crossentropy: 6.6638\n",
      "Epoch 20/50\n",
      "26/26 [==============================] - 6s 230ms/step - loss: 0.4495 - accuracy: 0.8248 - categorical_crossentropy: 0.4495 - val_loss: 4.3235 - val_accuracy: 0.2227 - val_categorical_crossentropy: 4.3235\n",
      "Epoch 21/50\n",
      "26/26 [==============================] - 6s 230ms/step - loss: 0.4025 - accuracy: 0.8528 - categorical_crossentropy: 0.4025 - val_loss: 4.1139 - val_accuracy: 0.2340 - val_categorical_crossentropy: 4.1139\n",
      "Epoch 22/50\n",
      "26/26 [==============================] - 6s 227ms/step - loss: 0.3667 - accuracy: 0.8704 - categorical_crossentropy: 0.3667 - val_loss: 3.9431 - val_accuracy: 0.2000 - val_categorical_crossentropy: 3.9431\n",
      "Epoch 23/50\n",
      "26/26 [==============================] - 6s 228ms/step - loss: 0.3225 - accuracy: 0.8881 - categorical_crossentropy: 0.3225 - val_loss: 6.4122 - val_accuracy: 0.2312 - val_categorical_crossentropy: 6.4122\n",
      "Epoch 24/50\n",
      "26/26 [==============================] - 6s 230ms/step - loss: 0.3882 - accuracy: 0.8601 - categorical_crossentropy: 0.3882 - val_loss: 5.2072 - val_accuracy: 0.2099 - val_categorical_crossentropy: 5.2072\n",
      "Epoch 25/50\n",
      "26/26 [==============================] - 6s 231ms/step - loss: 0.2863 - accuracy: 0.8996 - categorical_crossentropy: 0.2863 - val_loss: 4.8661 - val_accuracy: 0.2255 - val_categorical_crossentropy: 4.8661\n",
      "Epoch 26/50\n",
      "26/26 [==============================] - 6s 232ms/step - loss: 0.3092 - accuracy: 0.8966 - categorical_crossentropy: 0.3092 - val_loss: 4.7008 - val_accuracy: 0.2440 - val_categorical_crossentropy: 4.7008\n",
      "Epoch 27/50\n",
      "26/26 [==============================] - 6s 231ms/step - loss: 0.2803 - accuracy: 0.9027 - categorical_crossentropy: 0.2803 - val_loss: 5.2593 - val_accuracy: 0.2085 - val_categorical_crossentropy: 5.2593\n",
      "Epoch 28/50\n",
      "26/26 [==============================] - 6s 230ms/step - loss: 0.2497 - accuracy: 0.9136 - categorical_crossentropy: 0.2497 - val_loss: 5.9236 - val_accuracy: 0.2397 - val_categorical_crossentropy: 5.9236\n",
      "Epoch 29/50\n",
      "26/26 [==============================] - 6s 232ms/step - loss: 0.2259 - accuracy: 0.9221 - categorical_crossentropy: 0.2259 - val_loss: 5.6261 - val_accuracy: 0.2454 - val_categorical_crossentropy: 5.6261\n",
      "Epoch 30/50\n",
      "26/26 [==============================] - 6s 233ms/step - loss: 0.2109 - accuracy: 0.9270 - categorical_crossentropy: 0.2109 - val_loss: 5.8517 - val_accuracy: 0.2199 - val_categorical_crossentropy: 5.8517\n",
      "Epoch 31/50\n",
      "26/26 [==============================] - 6s 231ms/step - loss: 0.1782 - accuracy: 0.9434 - categorical_crossentropy: 0.1782 - val_loss: 5.9508 - val_accuracy: 0.2028 - val_categorical_crossentropy: 5.9508\n",
      "Epoch 32/50\n",
      "26/26 [==============================] - 6s 233ms/step - loss: 0.1160 - accuracy: 0.9629 - categorical_crossentropy: 0.1160 - val_loss: 5.5588 - val_accuracy: 0.2482 - val_categorical_crossentropy: 5.5588\n",
      "Epoch 33/50\n",
      "26/26 [==============================] - 6s 230ms/step - loss: 0.2586 - accuracy: 0.9088 - categorical_crossentropy: 0.2586 - val_loss: 5.1502 - val_accuracy: 0.1957 - val_categorical_crossentropy: 5.1502\n",
      "Epoch 34/50\n",
      "26/26 [==============================] - 6s 231ms/step - loss: 0.2102 - accuracy: 0.9319 - categorical_crossentropy: 0.2102 - val_loss: 5.1236 - val_accuracy: 0.2312 - val_categorical_crossentropy: 5.1236\n",
      "Epoch 35/50\n",
      "26/26 [==============================] - 6s 231ms/step - loss: 0.1476 - accuracy: 0.9477 - categorical_crossentropy: 0.1476 - val_loss: 5.5618 - val_accuracy: 0.2184 - val_categorical_crossentropy: 5.5618\n",
      "Epoch 36/50\n",
      "26/26 [==============================] - 6s 231ms/step - loss: 0.1516 - accuracy: 0.9513 - categorical_crossentropy: 0.1516 - val_loss: 5.7974 - val_accuracy: 0.2199 - val_categorical_crossentropy: 5.7974\n",
      "Epoch 37/50\n",
      "26/26 [==============================] - 6s 231ms/step - loss: 0.1460 - accuracy: 0.9532 - categorical_crossentropy: 0.1460 - val_loss: 5.2537 - val_accuracy: 0.2199 - val_categorical_crossentropy: 5.2537\n",
      "Epoch 38/50\n",
      "26/26 [==============================] - 6s 232ms/step - loss: 0.0915 - accuracy: 0.9720 - categorical_crossentropy: 0.0915 - val_loss: 5.4082 - val_accuracy: 0.2355 - val_categorical_crossentropy: 5.4082\n",
      "Epoch 39/50\n",
      "26/26 [==============================] - 6s 233ms/step - loss: 0.0809 - accuracy: 0.9732 - categorical_crossentropy: 0.0809 - val_loss: 5.2009 - val_accuracy: 0.2241 - val_categorical_crossentropy: 5.2009\n",
      "Epoch 40/50\n",
      "26/26 [==============================] - 6s 232ms/step - loss: 0.0857 - accuracy: 0.9684 - categorical_crossentropy: 0.0857 - val_loss: 5.7961 - val_accuracy: 0.2071 - val_categorical_crossentropy: 5.7961\n",
      "Epoch 41/50\n",
      "26/26 [==============================] - 6s 233ms/step - loss: 0.0949 - accuracy: 0.9678 - categorical_crossentropy: 0.0949 - val_loss: 5.2365 - val_accuracy: 0.2170 - val_categorical_crossentropy: 5.2365\n",
      "Epoch 42/50\n",
      "26/26 [==============================] - 6s 233ms/step - loss: 0.1084 - accuracy: 0.9599 - categorical_crossentropy: 0.1084 - val_loss: 6.1335 - val_accuracy: 0.2312 - val_categorical_crossentropy: 6.1335\n",
      "Epoch 43/50\n",
      "26/26 [==============================] - 6s 232ms/step - loss: 0.0647 - accuracy: 0.9805 - categorical_crossentropy: 0.0647 - val_loss: 5.9007 - val_accuracy: 0.2482 - val_categorical_crossentropy: 5.9007\n",
      "Epoch 44/50\n",
      "26/26 [==============================] - 6s 231ms/step - loss: 0.0635 - accuracy: 0.9793 - categorical_crossentropy: 0.0635 - val_loss: 7.4055 - val_accuracy: 0.2170 - val_categorical_crossentropy: 7.4055\n",
      "Epoch 45/50\n",
      "26/26 [==============================] - 6s 231ms/step - loss: 0.0916 - accuracy: 0.9726 - categorical_crossentropy: 0.0916 - val_loss: 6.6465 - val_accuracy: 0.2071 - val_categorical_crossentropy: 6.6465\n",
      "Epoch 46/50\n",
      "26/26 [==============================] - 6s 231ms/step - loss: 0.1387 - accuracy: 0.9501 - categorical_crossentropy: 0.1387 - val_loss: 6.8038 - val_accuracy: 0.2170 - val_categorical_crossentropy: 6.8038\n",
      "Epoch 47/50\n",
      "26/26 [==============================] - 6s 232ms/step - loss: 0.1499 - accuracy: 0.9501 - categorical_crossentropy: 0.1499 - val_loss: 9.1820 - val_accuracy: 0.2184 - val_categorical_crossentropy: 9.1820\n",
      "Epoch 48/50\n",
      "26/26 [==============================] - 6s 231ms/step - loss: 0.1075 - accuracy: 0.9635 - categorical_crossentropy: 0.1075 - val_loss: 6.2553 - val_accuracy: 0.2085 - val_categorical_crossentropy: 6.2553\n",
      "Epoch 49/50\n",
      "26/26 [==============================] - 6s 232ms/step - loss: 0.0787 - accuracy: 0.9763 - categorical_crossentropy: 0.0787 - val_loss: 7.2440 - val_accuracy: 0.2482 - val_categorical_crossentropy: 7.2440\n",
      "Epoch 50/50\n",
      "26/26 [==============================] - 6s 232ms/step - loss: 0.1094 - accuracy: 0.9647 - categorical_crossentropy: 0.1094 - val_loss: 6.0420 - val_accuracy: 0.2184 - val_categorical_crossentropy: 6.0420\n"
     ]
    }
   ],
   "source": [
    "resnet_history = train(model_resnet, X_train, Y_train, X_test, Y_test)"
   ]
  },
  {
   "cell_type": "code",
   "execution_count": 40,
   "metadata": {},
   "outputs": [
    {
     "data": {
      "text/plain": [
       "[<matplotlib.lines.Line2D at 0x7fca544faeb0>]"
      ]
     },
     "execution_count": 40,
     "metadata": {},
     "output_type": "execute_result"
    },
    {
     "data": {
      "image/png": "[encoded data removed]",
      "text/plain": [
       "<Figure size 432x288 with 1 Axes>"
      ]
     },
     "metadata": {
      "needs_background": "light"
     },
     "output_type": "display_data"
    }
   ],
   "source": [
    "plt.plot(resnet_history.history['val_accuracy'])"
   ]
  },
  {
   "cell_type": "code",
   "execution_count": 41,
   "metadata": {},
   "outputs": [
    {
     "data": {
      "text/plain": [
       "[<matplotlib.lines.Line2D at 0x7fca55898ca0>]"
      ]
     },
     "execution_count": 41,
     "metadata": {},
     "output_type": "execute_result"
    },
    {
     "data": {
      "image/png": "[encoded data removed]",
      "text/plain": [
       "<Figure size 432x288 with 1 Axes>"
      ]
     },
     "metadata": {
      "needs_background": "light"
     },
     "output_type": "display_data"
    }
   ],
   "source": [
    "plt.plot(resnet_history.history['val_loss'])"
   ]
  },
  {
   "cell_type": "code",
   "execution_count": 42,
   "metadata": {},
   "outputs": [
    {
     "data": {
      "text/plain": [
       "[<matplotlib.lines.Line2D at 0x7fca5540b580>]"
      ]
     },
     "execution_count": 42,
     "metadata": {},
     "output_type": "execute_result"
    },
    {
     "data": {
      "image/png": "[encoded data removed]",
      "text/plain": [
       "<Figure size 432x288 with 1 Axes>"
      ]
     },
     "metadata": {
      "needs_background": "light"
     },
     "output_type": "display_data"
    }
   ],
   "source": [
    "plt.plot(resnet_history.history['accuracy'])"
   ]
  },
  {
   "cell_type": "code",
   "execution_count": 43,
   "metadata": {},
   "outputs": [
    {
     "data": {
      "text/plain": [
       "[<matplotlib.lines.Line2D at 0x7fca0e187880>]"
      ]
     },
     "execution_count": 43,
     "metadata": {},
     "output_type": "execute_result"
    },
    {
     "data": {
      "image/png": "[encoded data removed]",
      "text/plain": [
       "<Figure size 432x288 with 1 Axes>"
      ]
     },
     "metadata": {
      "needs_background": "light"
     },
     "output_type": "display_data"
    }
   ],
   "source": [
    "plt.plot(resnet_history.history['loss'])"
   ]
  },
  {
   "cell_type": "code",
   "execution_count": null,
   "metadata": {},
   "outputs": [],
   "source": []
  }
 ],
 "metadata": {
  "kernelspec": {
   "display_name": "Python 3.8.12 ('radar')",
   "language": "python",
   "name": "python3"
  },
  "language_info": {
   "codemirror_mode": {
    "name": "ipython",
    "version": 3
   },
   "file_extension": ".py",
   "mimetype": "text/x-python",
   "name": "python",
   "nbconvert_exporter": "python",
   "pygments_lexer": "ipython3",
   "version": "3.8.12"
  },
  "orig_nbformat": 4,
  "vscode": {
   "interpreter": {
    "hash": "dea347e98226a0e23d2c967d9a0ab2a62ac04f9a7895aa5011026f33e6be1d75"
   }
  }
 },
 "nbformat": 4,
 "nbformat_minor": 2
}
