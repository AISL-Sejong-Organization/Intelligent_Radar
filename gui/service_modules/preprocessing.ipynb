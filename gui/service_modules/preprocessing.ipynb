{
 "cells": [
  {
   "cell_type": "code",
   "execution_count": 2,
   "metadata": {},
   "outputs": [],
   "source": [
    "import os\n",
    "import numpy as np\n",
    "import pandas as pd"
   ]
  },
  {
   "cell_type": "code",
   "execution_count": 3,
   "metadata": {},
   "outputs": [],
   "source": [
    "Can = list()\n",
    "Paper = list()\n",
    "Glass = list()\n",
    "Plastic = list()\n",
    "Can = np.array(Can)\n",
    "Paper = np.array(Paper)\n",
    "Glass = np.array(Glass)\n",
    "Plastic = np.array(Plastic)\n",
    "\n",
    "Class = 4\n",
    "\n",
    "lableDict = {\n",
    "                'can' : 0,\n",
    "                'paper' : 1,\n",
    "                'glass' : 2,\n",
    "                'plastic' : 3,\n",
    "            }\n",
    "\n",
    "test = np.zeros(4)\n",
    "\n",
    "def Label2Idx(label):\n",
    "    idx = np.zeros(4)\n",
    "    idx[label] = 1\n",
    "    return idx\n",
    "\n",
    "dir_path = './data'\n",
    "\n",
    "def readNpy(dir_path, Can, Paper, Glass, Plastic):\n",
    "    for dir in os.listdir(dir_path):\n",
    "        d_path = os.path.join(dir_path, dir)\n",
    "        file_list = os.listdir(d_path)\n",
    "        for file in file_list:\n",
    "            file_path = os.path.join(d_path, file)\n",
    "            if dir == 'can':\n",
    "                if len(Can) == 0:\n",
    "                    Can = np.load(file_path)\n",
    "                else :\n",
    "                    Can = np.append(Can, np.load(file_path), axis = 0)\n",
    "            elif dir == 'paper':\n",
    "                if len(Paper) == 0:\n",
    "                    Paper = np.load(file_path)\n",
    "                else :\n",
    "                    Paper = np.append(Paper, np.load(file_path), axis = 0)\n",
    "            elif dir == 'glass':\n",
    "                if len(Glass) == 0:\n",
    "                    Glass = np.load(file_path)\n",
    "                else:\n",
    "                    Glass = np.append(Glass, np.load(file_path), axis = 0)\n",
    "            elif dir == 'plastic':\n",
    "                if len(Plastic) == 0:\n",
    "                    Plastic = np.load(file_path)\n",
    "                else:\n",
    "                    Plastic = np.append(Plastic, np.load(file_path), axis = 0)\n",
    "    \n",
    "    # Can = np.append(Can, Can_label, axis=1)\n",
    "    # Paper = np.append(Paper, Paper_label, axis=1)\n",
    "    # Glass = np.append(Glass, Glass_label, axis=1)\n",
    "    # Plastic = np.append(Plastic, Plastic_label, axis=1)\n",
    "    Can = np.expand_dims(Can, axis=0)\n",
    "    Paper = np.expand_dims(Paper, axis=0)\n",
    "    Glass = np.expand_dims(Glass, axis=0)\n",
    "    Plastic = np.expand_dims(Plastic, axis=0)\n",
    "    array = list()\n",
    "    array = np.array(array)\n",
    "    array = Can\n",
    "    # array = np.append(Can,[Plastic, Glass, Plastic], axis = 0)\n",
    "    # array = np.append(array, Can)\n",
    "    array = np.append(array, Paper, axis = 0)\n",
    "    array = np.append(array, Glass, axis = 0)\n",
    "    array = np.append(array, Plastic, axis = 0)\n",
    "    return array\n",
    "\n",
    "Data = readNpy(dir_path, Can, Paper, Glass, Plastic)\n",
    "X_len = Data.shape[2]\n",
    "Data_len = Data.shape[1]\n",
    "Can_label = np.expand_dims(np.full((Data_len, Class), Label2Idx(lableDict['can']), dtype='int'),axis=0)\n",
    "Paper_label = np.expand_dims(np.full((Data_len, Class), Label2Idx(lableDict['paper']), dtype='int'), axis=0)\n",
    "Glass_label = np.expand_dims(np.full((Data_len, Class), Label2Idx(lableDict['glass']), dtype='int'), axis=0)\n",
    "Plastic_label = np.expand_dims(np.full((Data_len, Class), Label2Idx(lableDict['plastic']), dtype='int'), axis=0)\n",
    "\n",
    "Label = np.append(Can_label, Paper_label, axis=0)\n",
    "Label = np.append(Label, Glass_label, axis=0)\n",
    "Label = np.append(Label, Plastic_label, axis=0)\n",
    "\n",
    "X = np.reshape(Data, (-1, Data.shape[2]))\n",
    "Y = np.reshape(Label, (-1, Label.shape[2]))"
   ]
  },
  {
   "cell_type": "code",
   "execution_count": 6,
   "metadata": {},
   "outputs": [],
   "source": [
    "maximum = np.max(X)\n",
    "minimum = np.min(Y)"
   ]
  },
  {
   "cell_type": "code",
   "execution_count": 7,
   "metadata": {},
   "outputs": [
    {
     "name": "stdout",
     "output_type": "stream",
     "text": [
      "(3131+1255j) 0\n"
     ]
    }
   ],
   "source": [
    "print(maximum, minimum)"
   ]
  },
  {
   "cell_type": "code",
   "execution_count": 13,
   "metadata": {},
   "outputs": [],
   "source": [
    "X_abs = np.abs(X)\n",
    "X_phs = np.angle(X)"
   ]
  },
  {
   "cell_type": "code",
   "execution_count": 14,
   "metadata": {},
   "outputs": [],
   "source": [
    "abs_max = np.max(X_abs)\n",
    "phs_max = np.max(X_phs)\n",
    "abs_min = np.min(X_abs)\n",
    "phs_min = np.min(X_phs)"
   ]
  },
  {
   "cell_type": "code",
   "execution_count": 16,
   "metadata": {},
   "outputs": [
    {
     "name": "stdout",
     "output_type": "stream",
     "text": [
      "3417.2854724181298 0.0 3.141592653589793 -3.14125504387946\n"
     ]
    }
   ],
   "source": [
    "print(abs_max, abs_min, phs_max, phs_min)"
   ]
  },
  {
   "cell_type": "code",
   "execution_count": 17,
   "metadata": {},
   "outputs": [],
   "source": [
    "X_abs_norm = X_abs/abs_max\n",
    "X_phs_norm = (X_phs - phs_min) / (phs_max - phs_min)"
   ]
  },
  {
   "cell_type": "code",
   "execution_count": null,
   "metadata": {},
   "outputs": [],
   "source": []
  }
 ],
 "metadata": {
  "interpreter": {
   "hash": "dbaacea5468811a017cc0f00a46fb9836d3190ef101d6642ac152db43eb38baa"
  },
  "kernelspec": {
   "display_name": "Python 3.7.11 ('radar')",
   "language": "python",
   "name": "python3"
  },
  "language_info": {
   "codemirror_mode": {
    "name": "ipython",
    "version": 3
   },
   "file_extension": ".py",
   "mimetype": "text/x-python",
   "name": "python",
   "nbconvert_exporter": "python",
   "pygments_lexer": "ipython3",
   "version": "3.7.11"
  },
  "orig_nbformat": 4
 },
 "nbformat": 4,
 "nbformat_minor": 2
}
